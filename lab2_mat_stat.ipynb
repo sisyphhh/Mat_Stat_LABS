{
 "cells": [
  {
   "cell_type": "code",
   "execution_count": 4,
   "metadata": {},
   "outputs": [
    {
     "name": "stdout",
     "output_type": "stream",
     "text": [
      "variant 11\n"
     ]
    }
   ],
   "source": [
    "print(\"variant 11\")\n",
    "import random\n",
    "import numpy as np\n",
    "from matplotlib import pylab as plt\n",
    "from matplotlib import rcParams\n",
    "%matplotlib inline"
   ]
  },
  {
   "cell_type": "code",
   "execution_count": 5,
   "metadata": {},
   "outputs": [
    {
     "name": "stdout",
     "output_type": "stream",
     "text": [
      "v= 11   a= -1.1   sigma= 1.11   sigma^2= 1.2321   liambda= 1.89   [a,b]=[ -0.55 , 1.0 ]   m= 8\n"
     ]
    }
   ],
   "source": [
    "v=11\n",
    "A=((-1)**v)*0.1*v\n",
    "sigma=0.01*v+1\n",
    "liambda= 2 + ((-1)**v)*0.01*v\n",
    "a=((-1)**v)*0.05*v\n",
    "b=a+0.05*v+1\n",
    "\n",
    "m=1+int(np.log2(200))\n",
    "#liam = float('{:.5f}'.format(liam))\n",
    "#p = float('{:.5f}'.format(p))#func showing limited numb after dot\n",
    "print('v=',v,' ','a=',A,' ','sigma=',sigma,' ','sigma^2=',float('{:.5f}'.format(sigma**2)),' ','liambda=',liambda,' ','[a,b]=[',a,',',b,']',' ','m=',m)"
   ]
  },
  {
   "cell_type": "code",
   "execution_count": 3,
   "metadata": {},
   "outputs": [
    {
     "ename": "SyntaxError",
     "evalue": "invalid syntax (<ipython-input-3-a6bf01e158a4>, line 1)",
     "output_type": "error",
     "traceback": [
      "\u001b[1;36m  File \u001b[1;32m\"<ipython-input-3-a6bf01e158a4>\"\u001b[1;36m, line \u001b[1;32m1\u001b[0m\n\u001b[1;33m    Построить:\u001b[0m\n\u001b[1;37m               ^\u001b[0m\n\u001b[1;31mSyntaxError\u001b[0m\u001b[1;31m:\u001b[0m invalid syntax\n"
     ]
    }
   ],
   "source": [
    "Построить: \n",
    "    1) группированную выборку (интервальный вариационный ряд) и ассоциированный статистический ряд;✔ \n",
    "    2) гистограмму относительных частот; ✔\n",
    "    3) график эмпирической функции распределения.✔\n",
    "Найти: \n",
    "    1) выборочное среднее;✔ \n",
    "    2) выборочную дисперсию с поправкой Шеппарда;✔ \n",
    "    3) выборочное среднее квадратическое отклонение;✔ \n",
    "    4) выборочную моду;✔ \n",
    "    5) выборочную медиану;✔ \n",
    "    6) выборочный коэффициент асимметрии; ✔\n",
    "    7) выборочный коэффициент эксцесса. ✔\n",
    "Составить таблицы: \n",
    "    1) сравнения относительных частот и теоретических вероятностей попадания в интервалы; \n",
    "    2) сравнения рассчитанных характеристик с теоретическими значениями. "
   ]
  },
  {
   "cell_type": "code",
   "execution_count": 6,
   "metadata": {
    "collapsed": true
   },
   "outputs": [],
   "source": [
    "def otrezok(massiv_xi):\n",
    "    otrezzzki=[]\n",
    "    a0=massiv_xi[0]\n",
    "    am=massiv_xi[-1]\n",
    "    #dlinna=len(massiv_xi)\n",
    "    d=am-a0\n",
    "    d_del_m=d/m\n",
    "    otrezzzki.append(a0)\n",
    "    i=1\n",
    "    while i<m:\n",
    "        ai=d_del_m + otrezzzki[i-1]\n",
    "        otrezzzki.append(round(ai,5))\n",
    "        i+=1\n",
    "    otrezzzki.append(am)\n",
    "    print('Otrezzki: ',otrezzzki,'\\n')\n",
    "    return otrezzzki"
   ]
  },
  {
   "cell_type": "code",
   "execution_count": 7,
   "metadata": {
    "collapsed": true
   },
   "outputs": [],
   "source": [
    "def gruppirovka(lin2,a__x):\n",
    "    a__n=[]\n",
    "    ran,i=0,0\n",
    "    j=1#right border\n",
    "    while i<200:\n",
    "        if lin2[i]<=a__x[j]:\n",
    "            #i+=1\n",
    "            ran+=1\n",
    "            if i != 199:\n",
    "                i+=1\n",
    "                continue\n",
    "        a__n.append(ran)\n",
    "        ran=0\n",
    "        if lin2[i]>a__x[j]:\n",
    "            j+=1\n",
    "            continue\n",
    "        if i == 199:\n",
    "            break    \n",
    "    return a__n"
   ]
  },
  {
   "cell_type": "code",
   "execution_count": 8,
   "metadata": {
    "collapsed": true
   },
   "outputs": [],
   "source": [
    "def imperik_func(x):#masss2-Xi(lin2_bin) masss3-Wi(lin3_bin)\n",
    "    rcParams['figure.dpi']=100\n",
    "    xdel=[]\n",
    "    ydel=[]\n",
    "    #x=masss2\n",
    "    #y=masss2\n",
    "    boxdel=0\n",
    "    plt.title('Empirical distribution function')\n",
    "    plt.ylabel('sum(Wi)')\n",
    "    plt.xlabel('Xi')\n",
    "    plt.grid(True)\n",
    "    for i in range(len(x)):\n",
    "        if i == len(x)-1:\n",
    "            xdel.append(x[i])\n",
    "            xdel.append(x[i]+5)\n",
    "            boxdel+=round((1)/(len(x)),5)\n",
    "            ydel.append(boxdel)\n",
    "            ydel.append(boxdel)\n",
    "        else:\n",
    "            xdel.append(x[i])\n",
    "            xdel.append(x[i+1])\n",
    "            boxdel+=round((1)/(len(x)),5)\n",
    "            ydel.append(boxdel)\n",
    "            ydel.append(boxdel)\n",
    "\n",
    "        plt.plot(xdel,ydel,color='black')\n",
    "        xdel.clear()\n",
    "        ydel.clear()\n",
    "    plt.show()"
   ]
  },
  {
   "cell_type": "code",
   "execution_count": 15,
   "metadata": {
    "collapsed": true
   },
   "outputs": [],
   "source": [
    "#rewrite like function\n",
    "def calculll(lina2,a_w,AAA): \n",
    "#lina2-X*i - x_norm/_poc/_ravn;lina1-a_n;lina3-a_w;AAA-Otrezzki(a_x_norm/etc)\n",
    "#===============================================================================\n",
    "    HHH=(AAA[-1]-AAA[0])/m\n",
    "    x_=0\n",
    "    for i in range(m):\n",
    "        x_+=lina2[i]*a_w[i]\n",
    "    x_ = float('{:.5f}'.format(x_))\n",
    "    print('Выборочное среднее :',x_)\n",
    "#===============================================================================\n",
    "    #for future calculations\n",
    "    Nu1=0 \n",
    "    Nu2=0 \n",
    "    Nu3=0\n",
    "    Nu4=0\n",
    "\n",
    "    D_=0  #D_=Nu2-Nu1**2\n",
    "    for i in range(len(lina2)):\n",
    "        Nu1+=lina2[i]*a_w[i]\n",
    "        Nu2+=(lina2[i]**2)*a_w[i]\n",
    "        Nu3+=(lina2[i]**3)*a_w[i]\n",
    "        Nu4+=(lina2[i]**4)*a_w[i]\n",
    "\n",
    "    D_=Nu2 - (Nu1)**2 -(HHH**2)/12\n",
    "    D_ = float('{:.5f}'.format(D_))\n",
    "    print('Выборочная дисперсия with Sheppard :',D_)\n",
    "#===============================================================================\n",
    "    #Центральный момент к-ого порядка:\n",
    "    Nu1_0=0\n",
    "    Nu2_0=D_\n",
    "    Nu3_0=Nu3-3*Nu2*Nu1+2*(Nu1)**3  #=Nu3-3*Nu2*Nu+2*(Nu1)**3\n",
    "    Nu4_0=Nu4-4*Nu3*Nu1+6*Nu2*(Nu1)**2-3*(Nu1)**4  #=Nu4-4*Nu3*Nu1+6*Nu2*(Nu1)**2-3*(Nu1)**4\n",
    "#===============================================================================\n",
    "    O_=D_**(0.5)\n",
    "    O_ = float('{:.5f}'.format(O_)) \n",
    "    print('Выборочное среднее квадратическое отклонение :',O_)\n",
    "#===============================================================================\n",
    "    Y1_=(Nu3_0)/(O_**3)\n",
    "    Y1_ = float('{:.5f}'.format(Y1_))\n",
    "    print('Выборочный Коэффициент асимметрии :',Y1_)\n",
    "#===============================================================================\n",
    "    Y2_=(Nu4_0)/(O_**4)-3\n",
    "    Y2_ = float('{:.5f}'.format(Y2_))\n",
    "    print('Выборочный Коэффициент эксцесса :',Y2_)\n",
    "#===============================================================================\n",
    "    Moda0=0\n",
    "    garb=0\n",
    "    for i in range(m):\n",
    "        if a_w[i]>garb:\n",
    "            garb=a_w[i]\n",
    "            Moda0=i+1#because it is between otrezki,so it`s right border\n",
    "    \n",
    "    if (Moda0-1)<=0:\n",
    "        Moda=AAA[Moda0-1] + HHH*((a_w[Moda0-1]-0)/(2*a_w[Moda0-1] - a_w[Moda0-2] - a_w[Moda0]))\n",
    "        \n",
    "    elif (Moda0-1)>=m-1:\n",
    "        Moda=AAA[Moda0-1] + HHH*((a_w[Moda0-1]-a_w[Moda0-2])/(2*a_w[Moda0-1] - a_w[Moda0-2] - 0))\n",
    "        \n",
    "    else:\n",
    "        Moda=AAA[Moda0-1] + HHH*((a_w[Moda0-1]-a_w[Moda0-2])/(2*a_w[Moda0-1] - a_w[Moda0-2] - a_w[Moda0]))\n",
    "        \n",
    "    print('Выборочная мода :',round(Moda,5))\n",
    "#===============================================================================\n",
    "    #median\n",
    "    box1=0\n",
    "    box2=1\n",
    "    \n",
    "    for i in range(8):\n",
    "        box1+=a_w[i]\n",
    "        if box1 >= 0.5:\n",
    "            box2+=1\n",
    "            break\n",
    "        box2+=1#index\n",
    "\n",
    "    #for i in range(Moda0-2):\n",
    "    #    box1+=a_w[i]\n",
    "    #    box2+=a_w[i]\n",
    "    #box2+=a_w[Moda0-1]    \n",
    "        \n",
    "    #if box2 == 0.5:\n",
    "    #    Median=AAA[Moda0] \n",
    "    #else:\n",
    "    #    Median=AAA[Moda0-1] + (HHH/a_w[Moda0-1])*(0.5 - box1)   \n",
    "    \n",
    "    if box1 == 0.5:\n",
    "        Median=AAA[box2] \n",
    "    else:\n",
    "        Median=AAA[box2-1] + (HHH/a_w[box2-1])*(0.5 - box1) \n",
    "     \n",
    "    print('Выборочное медиана :',round(Median,5))"
   ]
  },
  {
   "cell_type": "code",
   "execution_count": 12,
   "metadata": {},
   "outputs": [
    {
     "name": "stdout",
     "output_type": "stream",
     "text": [
      "Our norm massive:  [-0.94709, 1.52221, -0.33641, 0.08561, -2.42482, -1.22046, 0.73431, -0.05511, -1.23072, -2.04721, -2.69363, -2.57361, 1.21491, -0.38771, -0.22566, -2.06418, -1.42825, -1.47518, 1.5369, -2.88467, -0.23077, -0.26088, -1.50341, -0.74445, 0.13443, -0.03331, -1.25733, -1.5187, 0.131, -0.86823, -1.33881, -0.35255, -1.88845, -2.6488, -0.42336, 0.89763, -0.67315, -2.13617, -1.57264, -1.45915, -0.92523, -2.85342, -0.11491, 0.01567, 0.35726, -0.89399, 0.30801, -1.06395, 0.02478, -2.9812, 0.41745, 0.48878, -2.05772, -0.68478, -1.56168, -2.10893, -1.81683, -2.77136, -0.9026, -0.74456, -1.14875, -1.39193, -1.80638, -1.04705, -1.29207, -0.93773, -1.18892, 0.26468, -1.42996, -1.51283, 0.9071, -0.20173, -0.5026, -0.42104, -1.66752, -3.6985, 0.99057, -1.38493, 0.41256, -1.63965, -0.98699, -2.02083, -2.3658, -1.33082, -2.00828, -0.61974, -1.13305, -0.73176, -0.75799, -1.53937, 0.45479, -1.57852, -0.95135, -0.52896, -1.22572, -1.79215, -1.29143, -0.10879, -2.54988, -1.04008, 0.13318, -2.85229, -0.33629, -1.6241, 1.88791, -1.907, -0.41266, -2.17467, -1.1552, -0.00209, -0.58037, -2.40587, 0.35257, -2.47201, -3.64153, -0.05968, -2.85544, 0.78121, -1.43492, 0.38517, -1.36473, -0.35763, -2.63247, -2.05407, -1.24277, -2.32237, -2.20646, 0.08401, -0.07373, 0.73814, -1.86731, -1.2047, -2.68382, -2.68339, -0.9306, -1.58798, -1.61199, -0.47665, -1.15858, 0.92628, -1.75632, -0.75917, -0.55569, -0.72993, -2.04667, -0.40604, -0.21563, -0.55925, -1.76767, -0.17709, -1.11711, -3.34222, -1.76301, -0.40586, -0.43606, -0.3875, -0.62878, -1.6818, -2.95691, -2.5115, -0.76559, -1.89941, 0.55432, -1.42483, -0.89461, 0.88537, -0.14629, 0.56978, -1.79756, 0.36454, -1.65586, -1.77301, -2.15204, -0.53535, -0.19731, -1.44927, -1.27617, -0.61562, -0.90254, -0.43287, -2.02416, -1.86274, 0.54726, -0.85864, -2.00496, -2.04666, -0.11686, -1.21567, -2.47573, -0.96316, -0.99617, -0.469, -1.39458, -1.43184, 0.2349, -0.74583, -0.73807, -2.13055, -1.77086, -0.03267] \n",
      "\n",
      "Sorted massive:  [-3.6985, -3.64153, -3.34222, -2.9812, -2.95691, -2.88467, -2.85544, -2.85342, -2.85229, -2.77136, -2.69363, -2.68382, -2.68339, -2.6488, -2.63247, -2.57361, -2.54988, -2.5115, -2.47573, -2.47201, -2.42482, -2.40587, -2.3658, -2.32237, -2.20646, -2.17467, -2.15204, -2.13617, -2.13055, -2.10893, -2.06418, -2.05772, -2.05407, -2.04721, -2.04667, -2.04666, -2.02416, -2.02083, -2.00828, -2.00496, -1.907, -1.89941, -1.88845, -1.86731, -1.86274, -1.81683, -1.80638, -1.79756, -1.79215, -1.77301, -1.77086, -1.76767, -1.76301, -1.75632, -1.6818, -1.66752, -1.65586, -1.63965, -1.6241, -1.61199, -1.58798, -1.57852, -1.57264, -1.56168, -1.53937, -1.5187, -1.51283, -1.50341, -1.47518, -1.45915, -1.44927, -1.43492, -1.43184, -1.42996, -1.42825, -1.42483, -1.39458, -1.39193, -1.38493, -1.36473, -1.33881, -1.33082, -1.29207, -1.29143, -1.27617, -1.25733, -1.24277, -1.23072, -1.22572, -1.22046, -1.21567, -1.2047, -1.18892, -1.15858, -1.1552, -1.14875, -1.13305, -1.11711, -1.06395, -1.04705, -1.04008, -0.99617, -0.98699, -0.96316, -0.95135, -0.94709, -0.93773, -0.9306, -0.92523, -0.9026, -0.90254, -0.89461, -0.89399, -0.86823, -0.85864, -0.76559, -0.75917, -0.75799, -0.74583, -0.74456, -0.74445, -0.73807, -0.73176, -0.72993, -0.68478, -0.67315, -0.62878, -0.61974, -0.61562, -0.58037, -0.55925, -0.55569, -0.53535, -0.52896, -0.5026, -0.47665, -0.469, -0.43606, -0.43287, -0.42336, -0.42104, -0.41266, -0.40604, -0.40586, -0.38771, -0.3875, -0.35763, -0.35255, -0.33641, -0.33629, -0.26088, -0.23077, -0.22566, -0.21563, -0.20173, -0.19731, -0.17709, -0.14629, -0.11686, -0.11491, -0.10879, -0.07373, -0.05968, -0.05511, -0.03331, -0.03267, -0.00209, 0.01567, 0.02478, 0.08401, 0.08561, 0.131, 0.13318, 0.13443, 0.2349, 0.26468, 0.30801, 0.35257, 0.35726, 0.36454, 0.38517, 0.41256, 0.41745, 0.45479, 0.48878, 0.54726, 0.55432, 0.56978, 0.73431, 0.73814, 0.78121, 0.88537, 0.89763, 0.9071, 0.92628, 0.99057, 1.21491, 1.52221, 1.5369, 1.88791] \n",
      "\n",
      "Otrezzki:  [-3.6985, -3.0002, -2.3019, -1.6036, -0.9053, -0.207, 0.4913, 1.1896, 1.88791] \n",
      "\n",
      "a_n:  [3, 21, 36, 49, 45, 31, 11, 4] 200 \n",
      "\n",
      "a_w:  [0.015, 0.105, 0.18, 0.245, 0.225, 0.155, 0.055, 0.02] 1.0 \n",
      "\n",
      "x_norm:  [-3.34935, -2.65105, -1.95275, -1.25445, -0.55615, 0.14215, 0.84045, 1.53876] \n",
      "\n"
     ]
    }
   ],
   "source": [
    "#Zadanie 1 math generations\n",
    "\n",
    "lin2_norm=[]#Xi\n",
    "lin1_norm=[]#Ni\n",
    "lin3_norm=[]#Wi\n",
    "\n",
    "lin2_norm.clear()\n",
    "lin1_norm.clear()\n",
    "lin3_norm.clear()\n",
    "#lin2_norm =round(np.random.normal(A, sigma, 200),5)\n",
    "#do we need to round numbers? because there mantiss if not\n",
    "for i in range(200):\n",
    "    ran=np.random.normal(A, sigma)\n",
    "    lin2_norm.append(round(ran,5))\n",
    "    \n",
    "print('Our norm massive: ',lin2_norm,'\\n')\n",
    "lin2_norm.sort()\n",
    "print('Sorted massive: ',lin2_norm,'\\n')\n",
    "#after we delite same el-ts lin2_norm.len()\n",
    "\n",
    "a_x_norm=otrezok(lin2_norm)\n",
    "a_n_norm=gruppirovka(lin2_norm,a_x_norm)        \n",
    "a_w_norm=[round((i/200),5) for i in a_n_norm]\n",
    "\n",
    "print('a_n: ',a_n_norm,sum(a_n_norm),'\\n')\n",
    "print('a_w: ',a_w_norm,round(sum(a_w_norm),5),'\\n')\n",
    "\n",
    "i=1#right border\n",
    "x_norm=[]\n",
    "while i<m+1:\n",
    "    ran=(a_x_norm[i-1]+a_x_norm[i])/2\n",
    "    x_norm.append(round(ran,5))\n",
    "    i+=1\n",
    "print('x_norm: ',x_norm,'\\n')#X*i"
   ]
  },
  {
   "cell_type": "code",
   "execution_count": 10,
   "metadata": {},
   "outputs": [
    {
     "name": "stdout",
     "output_type": "stream",
     "text": [
      "Sorted massive:  [-3.6985, -3.64153, -3.34222, -2.9812, -2.95691, -2.88467, -2.85544, -2.85342, -2.85229, -2.77136, -2.69363, -2.68382, -2.68339, -2.6488, -2.63247, -2.57361, -2.54988, -2.5115, -2.47573, -2.47201, -2.42482, -2.40587, -2.3658, -2.32237, -2.20646, -2.17467, -2.15204, -2.13617, -2.13055, -2.10893, -2.06418, -2.05772, -2.05407, -2.04721, -2.04667, -2.04666, -2.02416, -2.02083, -2.00828, -2.00496, -1.907, -1.89941, -1.88845, -1.86731, -1.86274, -1.81683, -1.80638, -1.79756, -1.79215, -1.77301, -1.77086, -1.76767, -1.76301, -1.75632, -1.6818, -1.66752, -1.65586, -1.63965, -1.6241, -1.61199, -1.58798, -1.57852, -1.57264, -1.56168, -1.53937, -1.5187, -1.51283, -1.50341, -1.47518, -1.45915, -1.44927, -1.43492, -1.43184, -1.42996, -1.42825, -1.42483, -1.39458, -1.39193, -1.38493, -1.36473, -1.33881, -1.33082, -1.29207, -1.29143, -1.27617, -1.25733, -1.24277, -1.23072, -1.22572, -1.22046, -1.21567, -1.2047, -1.18892, -1.15858, -1.1552, -1.14875, -1.13305, -1.11711, -1.06395, -1.04705, -1.04008, -0.99617, -0.98699, -0.96316, -0.95135, -0.94709, -0.93773, -0.9306, -0.92523, -0.9026, -0.90254, -0.89461, -0.89399, -0.86823, -0.85864, -0.76559, -0.75917, -0.75799, -0.74583, -0.74456, -0.74445, -0.73807, -0.73176, -0.72993, -0.68478, -0.67315, -0.62878, -0.61974, -0.61562, -0.58037, -0.55925, -0.55569, -0.53535, -0.52896, -0.5026, -0.47665, -0.469, -0.43606, -0.43287, -0.42336, -0.42104, -0.41266, -0.40604, -0.40586, -0.38771, -0.3875, -0.35763, -0.35255, -0.33641, -0.33629, -0.26088, -0.23077, -0.22566, -0.21563, -0.20173, -0.19731, -0.17709, -0.14629, -0.11686, -0.11491, -0.10879, -0.07373, -0.05968, -0.05511, -0.03331, -0.03267, -0.00209, 0.01567, 0.02478, 0.08401, 0.08561, 0.131, 0.13318, 0.13443, 0.2349, 0.26468, 0.30801, 0.35257, 0.35726, 0.36454, 0.38517, 0.41256, 0.41745, 0.45479, 0.48878, 0.54726, 0.55432, 0.56978, 0.73431, 0.73814, 0.78121, 0.88537, 0.89763, 0.9071, 0.92628, 0.99057, 1.21491, 1.52221, 1.5369, 1.88791] \n",
      "\n",
      "Otrezzki:  [-3.6985, -3.0002, -2.3019, -1.6036, -0.9053, -0.207, 0.4913, 1.1896, 1.88791] \n",
      "\n",
      "a_n:  [3, 21, 36, 49, 45, 31, 11, 4] 200 \n",
      "\n",
      "a_w:  [0.015, 0.105, 0.18, 0.245, 0.225, 0.155, 0.055, 0.02] 1.0 \n",
      "\n",
      "x_norm:  [-3.34935, -2.65105, -1.95275, -1.25445, -0.55615, 0.14215, 0.84045, 1.53876] \n",
      "\n"
     ]
    }
   ],
   "source": [
    "#saved 1-st distr\n",
    "lin2_norm=[-3.6985, -3.64153, -3.34222, -2.9812, -2.95691, -2.88467, -2.85544, -2.85342, -2.85229, -2.77136, -2.69363, -2.68382, -2.68339, -2.6488, -2.63247, -2.57361, -2.54988, -2.5115, -2.47573, -2.47201, -2.42482, -2.40587, -2.3658, -2.32237, -2.20646, -2.17467, -2.15204, -2.13617, -2.13055, -2.10893, -2.06418, -2.05772, -2.05407, -2.04721, -2.04667, -2.04666, -2.02416, -2.02083, -2.00828, -2.00496, -1.907, -1.89941, -1.88845, -1.86731, -1.86274, -1.81683, -1.80638, -1.79756, -1.79215, -1.77301, -1.77086, -1.76767, -1.76301, -1.75632, -1.6818, -1.66752, -1.65586, -1.63965, -1.6241, -1.61199, -1.58798, -1.57852, -1.57264, -1.56168, -1.53937, -1.5187, -1.51283, -1.50341, -1.47518, -1.45915, -1.44927, -1.43492, -1.43184, -1.42996, -1.42825, -1.42483, -1.39458, -1.39193, -1.38493, -1.36473, -1.33881, -1.33082, -1.29207, -1.29143, -1.27617, -1.25733, -1.24277, -1.23072, -1.22572, -1.22046, -1.21567, -1.2047, -1.18892, -1.15858, -1.1552, -1.14875, -1.13305, -1.11711, -1.06395, -1.04705, -1.04008, -0.99617, -0.98699, -0.96316, -0.95135, -0.94709, -0.93773, -0.9306, -0.92523, -0.9026, -0.90254, -0.89461, -0.89399, -0.86823, -0.85864, -0.76559, -0.75917, -0.75799, -0.74583, -0.74456, -0.74445, -0.73807, -0.73176, -0.72993, -0.68478, -0.67315, -0.62878, -0.61974, -0.61562, -0.58037, -0.55925, -0.55569, -0.53535, -0.52896, -0.5026, -0.47665, -0.469, -0.43606, -0.43287, -0.42336, -0.42104, -0.41266, -0.40604, -0.40586, -0.38771, -0.3875, -0.35763, -0.35255, -0.33641, -0.33629, -0.26088, -0.23077, -0.22566, -0.21563, -0.20173, -0.19731, -0.17709, -0.14629, -0.11686, -0.11491, -0.10879, -0.07373, -0.05968, -0.05511, -0.03331, -0.03267, -0.00209, 0.01567, 0.02478, 0.08401, 0.08561, 0.131, 0.13318, 0.13443, 0.2349, 0.26468, 0.30801, 0.35257, 0.35726, 0.36454, 0.38517, 0.41256, 0.41745, 0.45479, 0.48878, 0.54726, 0.55432, 0.56978, 0.73431, 0.73814, 0.78121, 0.88537, 0.89763, 0.9071, 0.92628, 0.99057, 1.21491, 1.52221, 1.5369, 1.88791] \n",
    "print('Sorted massive: ',lin2_norm,'\\n')\n",
    "a_x_norm=otrezok(lin2_norm)\n",
    "a_n_norm=gruppirovka(lin2_norm,a_x_norm)        \n",
    "a_w_norm=[round((i/200),5) for i in a_n_norm]\n",
    "print('a_n: ',a_n_norm,sum(a_n_norm),'\\n')\n",
    "print('a_w: ',a_w_norm,round(sum(a_w_norm),5),'\\n')\n",
    "\n",
    "i=1#right border\n",
    "x_norm=[]\n",
    "while i<m+1:\n",
    "    ran=(a_x_norm[i-1]+a_x_norm[i])/2\n",
    "    x_norm.append(round(ran,5))\n",
    "    i+=1\n",
    "print('x_norm: ',x_norm,'\\n')#X*i"
   ]
  },
  {
   "cell_type": "code",
   "execution_count": 11,
   "metadata": {},
   "outputs": [
    {
     "name": "stdout",
     "output_type": "stream",
     "text": [
      "A_otrezk:  [-3.6985, -3.0002, -2.3019, -1.6036, -0.9053, -0.207, 0.4913, 1.1896, 1.88791]\n",
      "Numb of el-ts in ortez:  [3, 21, 36, 49, 45, 31, 11, 4]\n",
      "W relative frequency:  [0.015, 0.105, 0.18, 0.245, 0.225, 0.155, 0.055, 0.02]\n",
      "H for otrezk:  [0.02148, 0.15037, 0.25777, 0.35085, 0.32221, 0.22197, 0.07876, 0.02864]\n"
     ]
    },
    {
     "data": {
      "image/png": "[encoded data removed]",
      "text/plain": [
       "<matplotlib.figure.Figure at 0x23efe952ef0>"
      ]
     },
     "metadata": {},
     "output_type": "display_data"
    }
   ],
   "source": [
    "from scipy.stats import norm\n",
    "rcParams['figure.dpi']=100\n",
    "print('A_otrezk: ',a_x_norm)\n",
    "print('Numb of el-ts in ortez: ',a_n_norm)       \n",
    "print('W relative frequency: ',a_w_norm)\n",
    "lin2_norm\n",
    "h_n=[]\n",
    "for i in range(m):\n",
    "    ran=round(a_w_norm[i]/abs(a_x_norm[i+1]-a_x_norm[i]),5)\n",
    "    h_n.append(ran)\n",
    "print('H for otrezk: ',h_n) \n",
    "\n",
    "death_box=np.linspace(a_x_norm[0],a_x_norm[-1],500)\n",
    "plt.plot(death_box,norm.pdf(death_box,loc=A,scale=sigma),'--',label='probabile')\n",
    "plt.hist(lin2_norm, bins = m, density=True, facecolor='g', alpha=0.65,edgecolor='black',label='experimental')\n",
    "#plt.ylim((0, 0.5))\n",
    "plt.legend()\n",
    "plt.grid(True)\n",
    "plt.show()\n",
    "\n",
    "#plt.bar(x_norm, height=h_n,width=abs(a_x_norm[1]-a_x_norm[0]), facecolor='khaki',edgecolor =['black' for i in range(m)])\n",
    "#plt.grid(True)\n",
    "#plt.show()\n",
    "\n",
    "#print(norm.interval(0.68, loc=A, scale=sigma))"
   ]
  },
  {
   "cell_type": "code",
   "execution_count": 16,
   "metadata": {},
   "outputs": [
    {
     "data": {
      "image/png": "[encoded data removed]",
      "text/plain": [
       "<matplotlib.figure.Figure at 0x23effb3d828>"
      ]
     },
     "metadata": {},
     "output_type": "display_data"
    },
    {
     "name": "stdout",
     "output_type": "stream",
     "text": [
      "Выборочное среднее : -1.01354\n",
      "Выборочная дисперсия with Sheppard : 1.06918\n",
      "Выборочное среднее квадратическое отклонение : 1.03401\n",
      "Выборочный Коэффициент асимметрии : 0.12576\n",
      "Выборочный Коэффициент эксцесса : -0.26434\n",
      "Выборочная мода : -1.0696\n",
      "Выборочное медиана : -1.04496\n",
      "\n",
      "Мат ожидание : -1.1\n",
      "Дисперсия : 1.2321\n",
      "Среднее квадратическое отклонение : 1.11\n",
      "Коэффициент асимметрии : 0.0\n",
      "Коэффициент эксцесса : 0.0\n",
      "Мода : -1.1\n",
      "Медиана : -1.1\n",
      "\n",
      "real probabil: [0.03384, 0.09599, 0.18557, 0.24459, 0.21983, 0.13471, 0.05627, 0.01602] 0.98682\n",
      "our probabil: [0.015, 0.105, 0.18, 0.245, 0.225, 0.155, 0.055, 0.02] 1.0\n",
      "abs difference:\n",
      "0.01884  0.00901  0.00557  0.00041  0.00517  0.02029  0.00127  0.00398  "
     ]
    }
   ],
   "source": [
    "from scipy.stats import norm\n",
    "imperik_func(lin2_norm)\n",
    "calculll(x_norm,a_w_norm,a_x_norm)\n",
    "\n",
    "#===============================================================================\n",
    "#teoretical part\n",
    "print()\n",
    "Mat_norm=A\n",
    "Disp_norm=sigma**2\n",
    "Sred_otkl_norm=sigma\n",
    "Moda_norm=A\n",
    "Median_norm=A\n",
    "K_as_norm=0\n",
    "K_ecc_norm=0\n",
    "\n",
    "print('Мат ожидание :',float('{:.5f}'.format(Mat_norm)))\n",
    "print('Дисперсия :',float('{:.5f}'.format(Disp_norm)))\n",
    "print('Среднее квадратическое отклонение :',float('{:.5f}'.format(Sred_otkl_norm)))\n",
    "print('Коэффициент асимметрии :',float('{:.5f}'.format(K_as_norm)))\n",
    "print('Коэффициент эксцесса :',float('{:.5f}'.format(K_ecc_norm)))\n",
    "print('Мода :',float('{:.5f}'.format(Moda_norm)))\n",
    "print('Медиана :',float('{:.5f}'.format(Median_norm)))\n",
    "\n",
    "print()\n",
    "yno=[]\n",
    "for i in range(m):\n",
    "    yno.append(round(norm.cdf(a_x_norm[i+1], loc=A, scale=sigma)-norm.cdf(a_x_norm[i], loc=A, scale=sigma),5))\n",
    "print('real probabil:',yno,sum(yno))#,sum(yno)\n",
    "print('our probabil:',a_w_norm,sum(a_w_norm))\n",
    "\n",
    "print('abs difference:')\n",
    "for i in range(m):\n",
    "    print(round(abs(yno[i]-a_w_norm[i]),5),' ',end='')"
   ]
  },
  {
   "cell_type": "code",
   "execution_count": 21,
   "metadata": {},
   "outputs": [
    {
     "name": "stdout",
     "output_type": "stream",
     "text": [
      "Our pok massive:  [0.39783, 0.24268, 0.09721, 1.06215, 0.46904, 0.20728, 0.42405, 0.00717, 0.02413, 3.06078, 0.79059, 0.62161, 2.2013, 0.44973, 0.0561, 0.57824, 0.26573, 0.21956, 0.28651, 1.04976, 0.08236, 0.30203, 0.0196, 0.26998, 0.03977, 0.21693, 0.44454, 0.25984, 0.15428, 0.01493, 0.51086, 0.6923, 0.31282, 0.02318, 0.56023, 0.82746, 1.32498, 0.97453, 0.06794, 0.30877, 0.38325, 0.96451, 0.02925, 0.25935, 0.10396, 2.30486, 0.38232, 0.05757, 0.21352, 0.22363, 0.75222, 0.18345, 0.02893, 0.71926, 0.06216, 1.69628, 0.59285, 1.13668, 0.30574, 0.53682, 0.29562, 0.09124, 1.12931, 0.23929, 0.97471, 0.79539, 0.23319, 0.24812, 0.15001, 0.51732, 0.87342, 1.05317, 0.47772, 0.99672, 0.47121, 0.26598, 0.91605, 0.45418, 0.07868, 0.65577, 0.2265, 0.20456, 0.39287, 0.57569, 1.02152, 0.70974, 0.05626, 0.26508, 0.39867, 1.00312, 0.0137, 0.51829, 0.2698, 1.22818, 0.01425, 0.32666, 0.17007, 0.15198, 1.0048, 0.07119, 0.34265, 1.24808, 0.10596, 0.1492, 1.50777, 2.75196, 0.39685, 0.07088, 0.34924, 0.25471, 0.72468, 0.47393, 0.02482, 0.65182, 0.22863, 0.36969, 1.29746, 0.53907, 0.88336, 0.40959, 0.23236, 0.34266, 0.34696, 0.07437, 0.88065, 0.10399, 0.72853, 0.11324, 0.35064, 0.19606, 0.35909, 0.12673, 0.11935, 0.35679, 0.25828, 0.99926, 0.0536, 0.12097, 0.20805, 0.41223, 0.51967, 0.21824, 0.23452, 0.68365, 0.08239, 0.80567, 0.77784, 1.35364, 0.91097, 0.34452, 0.78584, 0.068, 0.67491, 0.60947, 0.28103, 0.24239, 0.79938, 0.0361, 0.72998, 0.19125, 0.37271, 1.34656, 0.39395, 0.14231, 0.69009, 0.76466, 1.5803, 0.38127, 0.19008, 0.69583, 0.19371, 0.72111, 0.13662, 0.73, 0.65029, 0.0284, 1.31771, 3.2762, 0.27166, 0.23755, 0.17343, 0.42344, 0.37235, 0.78771, 0.33789, 0.30571, 0.16156, 0.27695, 0.1267, 0.10663, 0.45327, 0.71592, 0.24716, 0.71797, 0.13033, 0.53457, 0.04789, 0.28688, 1.60559, 0.23151] \n",
      "\n",
      "Sorted massive:  [0.00717, 0.0137, 0.01425, 0.01493, 0.0196, 0.02318, 0.02413, 0.02482, 0.0284, 0.02893, 0.02925, 0.0361, 0.03977, 0.04789, 0.0536, 0.0561, 0.05626, 0.05757, 0.06216, 0.06794, 0.068, 0.07088, 0.07119, 0.07437, 0.07868, 0.08236, 0.08239, 0.09124, 0.09721, 0.10396, 0.10399, 0.10596, 0.10663, 0.11324, 0.11935, 0.12097, 0.1267, 0.12673, 0.13033, 0.13662, 0.14231, 0.1492, 0.15001, 0.15198, 0.15428, 0.16156, 0.17007, 0.17343, 0.18345, 0.19008, 0.19125, 0.19371, 0.19606, 0.20456, 0.20728, 0.20805, 0.21352, 0.21693, 0.21824, 0.21956, 0.22363, 0.2265, 0.22863, 0.23151, 0.23236, 0.23319, 0.23452, 0.23755, 0.23929, 0.24239, 0.24268, 0.24716, 0.24812, 0.25471, 0.25828, 0.25935, 0.25984, 0.26508, 0.26573, 0.26598, 0.2698, 0.26998, 0.27166, 0.27695, 0.28103, 0.28651, 0.28688, 0.29562, 0.30203, 0.30571, 0.30574, 0.30877, 0.31282, 0.32666, 0.33789, 0.34265, 0.34266, 0.34452, 0.34696, 0.34924, 0.35064, 0.35679, 0.35909, 0.36969, 0.37235, 0.37271, 0.38127, 0.38232, 0.38325, 0.39287, 0.39395, 0.39685, 0.39783, 0.39867, 0.40959, 0.41223, 0.42344, 0.42405, 0.44454, 0.44973, 0.45327, 0.45418, 0.46904, 0.47121, 0.47393, 0.47772, 0.51086, 0.51732, 0.51829, 0.51967, 0.53457, 0.53682, 0.53907, 0.56023, 0.57569, 0.57824, 0.59285, 0.60947, 0.62161, 0.65029, 0.65182, 0.65577, 0.67491, 0.68365, 0.69009, 0.6923, 0.69583, 0.70974, 0.71592, 0.71797, 0.71926, 0.72111, 0.72468, 0.72853, 0.72998, 0.73, 0.75222, 0.76466, 0.77784, 0.78584, 0.78771, 0.79059, 0.79539, 0.79938, 0.80567, 0.82746, 0.87342, 0.88065, 0.88336, 0.91097, 0.91605, 0.96451, 0.97453, 0.97471, 0.99672, 0.99926, 1.00312, 1.0048, 1.02152, 1.04976, 1.05317, 1.06215, 1.12931, 1.13668, 1.22818, 1.24808, 1.29746, 1.31771, 1.32498, 1.34656, 1.35364, 1.50777, 1.5803, 1.60559, 1.69628, 2.2013, 2.30486, 2.75196, 3.06078, 3.2762] \n",
      "\n",
      "Otrezzki:  [0.00717, 0.4158, 0.82443, 1.23306, 1.64169, 2.05032, 2.45895, 2.86758, 3.2762] \n",
      "\n",
      "a_n:  [116, 49, 20, 9, 1, 2, 1, 2] 200 \n",
      "\n",
      "a_w:  [0.58, 0.245, 0.1, 0.045, 0.005, 0.01, 0.005, 0.01] 1.0 \n",
      "\n",
      "x_pok:  [0.21149, 0.62011, 1.02875, 1.43738, 1.84601, 2.25464, 2.66326, 3.07189] \n",
      "\n"
     ]
    }
   ],
   "source": [
    "#Zadanie 2 math generations\n",
    "lin2_pok=[]#Xi\n",
    "lin1_pok=[]#Ni\n",
    "lin3_pok=[]#Wi\n",
    "\n",
    "lin2_pok.clear()\n",
    "lin1_pok.clear()\n",
    "lin3_pok.clear()\n",
    "\n",
    "for i in range(200):\n",
    "    ran=np.random.exponential(1/liambda)\n",
    "    lin2_pok.append(round(ran,5))\n",
    "    \n",
    "print('Our pok massive: ',lin2_pok,'\\n')\n",
    "lin2_pok.sort()\n",
    "print('Sorted massive: ',lin2_pok,'\\n')\n",
    "\n",
    "a_x_pok=otrezok(lin2_pok)\n",
    "a_n_pok=gruppirovka(lin2_pok,a_x_pok)        \n",
    "a_w_pok=[round((i/200),5) for i in a_n_pok]\n",
    "\n",
    "print('a_n: ',a_n_pok,sum(a_n_pok),'\\n')\n",
    "print('a_w: ',a_w_pok,round(sum(a_w_pok),5),'\\n')   \n",
    "\n",
    "i=1#right border\n",
    "x_pok=[]\n",
    "while i<m+1:\n",
    "    ran=(a_x_pok[i-1]+a_x_pok[i])/2\n",
    "    x_pok.append(round(ran,5))\n",
    "    i+=1\n",
    "print('x_pok: ',x_pok,'\\n')#X*i"
   ]
  },
  {
   "cell_type": "code",
   "execution_count": 17,
   "metadata": {},
   "outputs": [
    {
     "name": "stdout",
     "output_type": "stream",
     "text": [
      "Sorted massive:  [0.00717, 0.0137, 0.01425, 0.01493, 0.0196, 0.02318, 0.02413, 0.02482, 0.0284, 0.02893, 0.02925, 0.0361, 0.03977, 0.04789, 0.0536, 0.0561, 0.05626, 0.05757, 0.06216, 0.06794, 0.068, 0.07088, 0.07119, 0.07437, 0.07868, 0.08236, 0.08239, 0.09124, 0.09721, 0.10396, 0.10399, 0.10596, 0.10663, 0.11324, 0.11935, 0.12097, 0.1267, 0.12673, 0.13033, 0.13662, 0.14231, 0.1492, 0.15001, 0.15198, 0.15428, 0.16156, 0.17007, 0.17343, 0.18345, 0.19008, 0.19125, 0.19371, 0.19606, 0.20456, 0.20728, 0.20805, 0.21352, 0.21693, 0.21824, 0.21956, 0.22363, 0.2265, 0.22863, 0.23151, 0.23236, 0.23319, 0.23452, 0.23755, 0.23929, 0.24239, 0.24268, 0.24716, 0.24812, 0.25471, 0.25828, 0.25935, 0.25984, 0.26508, 0.26573, 0.26598, 0.2698, 0.26998, 0.27166, 0.27695, 0.28103, 0.28651, 0.28688, 0.29562, 0.30203, 0.30571, 0.30574, 0.30877, 0.31282, 0.32666, 0.33789, 0.34265, 0.34266, 0.34452, 0.34696, 0.34924, 0.35064, 0.35679, 0.35909, 0.36969, 0.37235, 0.37271, 0.38127, 0.38232, 0.38325, 0.39287, 0.39395, 0.39685, 0.39783, 0.39867, 0.40959, 0.41223, 0.42344, 0.42405, 0.44454, 0.44973, 0.45327, 0.45418, 0.46904, 0.47121, 0.47393, 0.47772, 0.51086, 0.51732, 0.51829, 0.51967, 0.53457, 0.53682, 0.53907, 0.56023, 0.57569, 0.57824, 0.59285, 0.60947, 0.62161, 0.65029, 0.65182, 0.65577, 0.67491, 0.68365, 0.69009, 0.6923, 0.69583, 0.70974, 0.71592, 0.71797, 0.71926, 0.72111, 0.72468, 0.72853, 0.72998, 0.73, 0.75222, 0.76466, 0.77784, 0.78584, 0.78771, 0.79059, 0.79539, 0.79938, 0.80567, 0.82746, 0.87342, 0.88065, 0.88336, 0.91097, 0.91605, 0.96451, 0.97453, 0.97471, 0.99672, 0.99926, 1.00312, 1.0048, 1.02152, 1.04976, 1.05317, 1.06215, 1.12931, 1.13668, 1.22818, 1.24808, 1.29746, 1.31771, 1.32498, 1.34656, 1.35364, 1.50777, 1.5803, 1.60559, 1.69628, 2.2013, 2.30486, 2.75196, 3.06078, 3.2762] \n",
      "\n",
      "Otrezzki:  [0.00717, 0.4158, 0.82443, 1.23306, 1.64169, 2.05032, 2.45895, 2.86758, 3.2762] \n",
      "\n",
      "a_n:  [116, 49, 20, 9, 1, 2, 1, 2] 200 \n",
      "\n",
      "a_w:  [0.58, 0.245, 0.1, 0.045, 0.005, 0.01, 0.005, 0.01] 1.0 \n",
      "\n",
      "x_pok:  [0.21149, 0.62011, 1.02875, 1.43738, 1.84601, 2.25464, 2.66326, 3.07189] \n",
      "\n"
     ]
    }
   ],
   "source": [
    "#saved 2-nd distr\n",
    "lin2_pok=[0.00717, 0.0137, 0.01425, 0.01493, 0.0196, 0.02318, 0.02413, 0.02482, 0.0284, 0.02893, 0.02925, 0.0361, 0.03977, 0.04789, 0.0536, 0.0561, 0.05626, 0.05757, 0.06216, 0.06794, 0.068, 0.07088, 0.07119, 0.07437, 0.07868, 0.08236, 0.08239, 0.09124, 0.09721, 0.10396, 0.10399, 0.10596, 0.10663, 0.11324, 0.11935, 0.12097, 0.1267, 0.12673, 0.13033, 0.13662, 0.14231, 0.1492, 0.15001, 0.15198, 0.15428, 0.16156, 0.17007, 0.17343, 0.18345, 0.19008, 0.19125, 0.19371, 0.19606, 0.20456, 0.20728, 0.20805, 0.21352, 0.21693, 0.21824, 0.21956, 0.22363, 0.2265, 0.22863, 0.23151, 0.23236, 0.23319, 0.23452, 0.23755, 0.23929, 0.24239, 0.24268, 0.24716, 0.24812, 0.25471, 0.25828, 0.25935, 0.25984, 0.26508, 0.26573, 0.26598, 0.2698, 0.26998, 0.27166, 0.27695, 0.28103, 0.28651, 0.28688, 0.29562, 0.30203, 0.30571, 0.30574, 0.30877, 0.31282, 0.32666, 0.33789, 0.34265, 0.34266, 0.34452, 0.34696, 0.34924, 0.35064, 0.35679, 0.35909, 0.36969, 0.37235, 0.37271, 0.38127, 0.38232, 0.38325, 0.39287, 0.39395, 0.39685, 0.39783, 0.39867, 0.40959, 0.41223, 0.42344, 0.42405, 0.44454, 0.44973, 0.45327, 0.45418, 0.46904, 0.47121, 0.47393, 0.47772, 0.51086, 0.51732, 0.51829, 0.51967, 0.53457, 0.53682, 0.53907, 0.56023, 0.57569, 0.57824, 0.59285, 0.60947, 0.62161, 0.65029, 0.65182, 0.65577, 0.67491, 0.68365, 0.69009, 0.6923, 0.69583, 0.70974, 0.71592, 0.71797, 0.71926, 0.72111, 0.72468, 0.72853, 0.72998, 0.73, 0.75222, 0.76466, 0.77784, 0.78584, 0.78771, 0.79059, 0.79539, 0.79938, 0.80567, 0.82746, 0.87342, 0.88065, 0.88336, 0.91097, 0.91605, 0.96451, 0.97453, 0.97471, 0.99672, 0.99926, 1.00312, 1.0048, 1.02152, 1.04976, 1.05317, 1.06215, 1.12931, 1.13668, 1.22818, 1.24808, 1.29746, 1.31771, 1.32498, 1.34656, 1.35364, 1.50777, 1.5803, 1.60559, 1.69628, 2.2013, 2.30486, 2.75196, 3.06078, 3.2762]\n",
    "print('Sorted massive: ',lin2_pok,'\\n')\n",
    "\n",
    "a_x_pok=otrezok(lin2_pok)\n",
    "a_n_pok=gruppirovka(lin2_pok,a_x_pok)        \n",
    "a_w_pok=[round((i/200),5) for i in a_n_pok]\n",
    "\n",
    "print('a_n: ',a_n_pok,sum(a_n_pok),'\\n')\n",
    "print('a_w: ',a_w_pok,round(sum(a_w_pok),5),'\\n')   \n",
    "\n",
    "i=1#right border\n",
    "x_pok=[]\n",
    "while i<m+1:\n",
    "    ran=(a_x_pok[i-1]+a_x_pok[i])/2\n",
    "    x_pok.append(round(ran,5))\n",
    "    i+=1\n",
    "print('x_pok: ',x_pok,'\\n')#X*i"
   ]
  },
  {
   "cell_type": "code",
   "execution_count": 18,
   "metadata": {},
   "outputs": [
    {
     "name": "stdout",
     "output_type": "stream",
     "text": [
      "A_otrezk:  [0.00717, 0.4158, 0.82443, 1.23306, 1.64169, 2.05032, 2.45895, 2.86758, 3.2762]\n",
      "Numb of el-ts in ortez:  [116, 49, 20, 9, 1, 2, 1, 2]\n",
      "W relative frequency:  [0.58, 0.245, 0.1, 0.045, 0.005, 0.01, 0.005, 0.01]\n",
      "H for otrezk:  [1.41938, 0.59956, 0.24472, 0.11012, 0.01224, 0.02447, 0.01224, 0.02447]\n"
     ]
    },
    {
     "data": {
      "image/png": "[encoded data removed]",
      "text/plain": [
       "<matplotlib.figure.Figure at 0x23effb59470>"
      ]
     },
     "metadata": {},
     "output_type": "display_data"
    }
   ],
   "source": [
    "from scipy.stats import expon\n",
    "rcParams['figure.dpi']=100\n",
    "print('A_otrezk: ',a_x_pok)\n",
    "print('Numb of el-ts in ortez: ',a_n_pok)    \n",
    "print('W relative frequency: ',a_w_pok)\n",
    "h_p=[]\n",
    "for i in range(m):\n",
    "    ran=round(a_w_pok[i]/abs(a_x_pok[i+1]-a_x_pok[i]),5)\n",
    "    h_p.append(ran)\n",
    "print('H for otrezk: ',h_p)\n",
    "\n",
    "death_box2=np.linspace(a_x_pok[0],a_x_pok[-1],500)\n",
    "plt.plot(death_box2,expon.pdf(death_box2,loc=0,scale=1/liambda),'--',label='probabile')\n",
    "plt.hist(lin2_pok, bins = m, density=True, facecolor='g', alpha=0.65,edgecolor='black',label='experimental')\n",
    "plt.legend()\n",
    "plt.grid(True)\n",
    "plt.show()\n",
    "\n",
    "#plt.bar(x_pok, height=h_p,width=abs(a_x_pok[1]-a_x_pok[0]),facecolor='khaki',edgecolor =['black' for i in range(m)])\n",
    "#plt.grid(True)\n",
    "#plt.show()"
   ]
  },
  {
   "cell_type": "code",
   "execution_count": 19,
   "metadata": {},
   "outputs": [
    {
     "data": {
      "image/png": "[encoded data removed]",
      "text/plain": [
       "<matplotlib.figure.Figure at 0x23effb56400>"
      ]
     },
     "metadata": {},
     "output_type": "display_data"
    },
    {
     "name": "stdout",
     "output_type": "stream",
     "text": [
      "Выборочное среднее : 0.51796\n",
      "Выборочная дисперсия with Sheppard : 0.23446\n",
      "Выборочное среднее квадратическое отклонение : 0.48421\n",
      "Выборочный Коэффициент асимметрии : 2.74741\n",
      "Выборочный Коэффициент эксцесса : 9.40597\n",
      "Выборочная мода : 0.26905\n",
      "Выборочное медиана : 0.28237\n",
      "\n",
      "Мат ожидание : 0.5291\n",
      "Дисперсия : 0.27995\n",
      "Среднее квадратическое отклонение : 0.5291\n",
      "Коэффициент асимметрии : 2.0\n",
      "Коэффициент эксцесса : 6.0\n",
      "Мода : 0.0\n",
      "Медиана : 0.36674\n",
      "\n",
      "real probabil: [0.53081, 0.24521, 0.11327, 0.05233, 0.02417, 0.01117, 0.00516, 0.00238] 0.9845000000000002\n",
      "our probabil: [0.58, 0.245, 0.1, 0.045, 0.005, 0.01, 0.005, 0.01] 1.0\n",
      "abs difference:\n",
      "0.04919  0.00021  0.01327  0.00733  0.01917  0.00117  0.00016  0.00762  "
     ]
    }
   ],
   "source": [
    "from scipy.stats import expon\n",
    "imperik_func(lin2_pok)\n",
    "calculll(x_pok,a_w_pok,a_x_pok)\n",
    "\n",
    "#===============================================================================\n",
    "#teoretical part\n",
    "print()\n",
    "Mat_pok=1/liambda\n",
    "Disp_pok=1/(liambda**2)\n",
    "Sred_otkl_pok=1/liambda\n",
    "Moda_pok=0\n",
    "Median_pok=(np.log(2))/liambda\n",
    "K_as_pok=2\n",
    "K_ecc_pok=6\n",
    "\n",
    "print('Мат ожидание :',float('{:.5f}'.format(Mat_pok)))\n",
    "print('Дисперсия :',float('{:.5f}'.format(Disp_pok)))\n",
    "print('Среднее квадратическое отклонение :',float('{:.5f}'.format(Sred_otkl_pok)))\n",
    "print('Коэффициент асимметрии :',float('{:.5f}'.format(K_as_pok)))\n",
    "print('Коэффициент эксцесса :',float('{:.5f}'.format(K_ecc_pok)))\n",
    "print('Мода :',float('{:.5f}'.format(Moda_pok)))\n",
    "print('Медиана :',float('{:.5f}'.format(Median_pok)))\n",
    "\n",
    "print()\n",
    "ypo=[]\n",
    "for i in range(m):#compare answer with cdf function\n",
    "    ypo.append(round((1-np.e**(-liambda*a_x_pok[i+1]))-(1-np.e**(-liambda*a_x_pok[i])),5))\n",
    "    \n",
    "print('real probabil:',ypo,sum(ypo))#,sum(ypo)\n",
    "print('our probabil:',a_w_pok,sum(a_w_pok))\n",
    "\n",
    "#ypo.clear()\n",
    "#for i in range(m):#compare answer with cdf function\n",
    "#    ypo.append(round(expon.cdf(a_x_pok[i+1],loc=0,scale=1/liambda)-expon.cdf(a_x_pok[i],loc=0,scale=1/liambda),5))\n",
    "#print('real probabil2:',ypo)#,sum(ypo)\n",
    "\n",
    "print('abs difference:')\n",
    "for i in range(m):\n",
    "    print(round(abs(ypo[i]-a_w_pok[i]),5),' ',end='')"
   ]
  },
  {
   "cell_type": "code",
   "execution_count": 27,
   "metadata": {},
   "outputs": [
    {
     "name": "stdout",
     "output_type": "stream",
     "text": [
      "Our ravn massive:  [0.25453, -0.06141, -0.16387, 0.40377, 0.71282, 0.95484, 0.00274, 0.4944, -0.11957, -0.08455, 0.75297, 0.59327, 0.25491, 0.69274, 0.3197, -0.49068, 0.62168, -0.21687, 0.57031, 0.4095, 0.7329, -0.00025, 0.96089, 0.24005, -0.10595, -0.30794, 0.72984, 0.79557, 0.0328, 0.03281, 0.74656, -0.07382, 0.27955, 0.31588, 0.64339, -0.17276, -0.51695, 0.16654, 0.62961, -0.33073, 0.90469, -0.49355, -0.38885, -0.48525, 0.07232, 0.72448, 0.87551, -0.14297, 0.69256, -0.54227, 0.424, -0.03969, 0.78278, -0.36948, 0.04316, 0.39691, -0.37497, 0.14906, -0.3181, 0.96052, -0.12355, -0.37183, -0.50194, -0.40702, -0.24495, 0.00234, 0.08346, 0.05642, -0.13466, -0.11514, -0.4249, -0.01963, -0.26171, 0.59634, 0.70648, -0.1693, 0.06339, -0.41106, 0.84832, 0.29143, 0.65032, -0.46561, -0.46118, -0.07276, -0.2706, -0.14414, 0.59429, 0.82214, 0.25325, 0.49311, 0.96539, 0.02408, -0.32263, 0.54748, -0.46373, 0.88783, 0.09877, 0.01064, 0.62587, -0.06309, 0.49855, -0.32985, 0.06278, -0.3156, 0.50173, 0.34588, -0.10919, -0.32599, -0.51294, 0.89597, 0.06386, 0.78649, 0.3228, 0.18692, -0.26223, 0.02957, 0.00826, 0.8257, 0.88684, 0.68468, -0.38365, 0.8464, 0.87118, 0.0487, 0.963, 0.27029, 0.52391, 0.33136, 0.44312, 0.2382, 0.67096, 0.68766, -0.11447, -0.01908, -0.35272, 0.30452, 0.32915, 0.55516, 0.38489, -0.46583, -0.39245, -0.24636, -0.13943, 0.50395, -0.18695, 0.73315, 0.74961, -0.04173, 0.47376, -0.23352, 0.12495, -0.13049, -0.31713, -0.09725, -0.39525, 0.83362, 0.76347, 0.82088, -0.11419, -0.43651, 0.28973, -0.41165, -0.1763, 0.50766, 0.38129, 0.80254, 0.10296, 0.59774, 0.43017, 0.53028, 0.20695, -0.3031, -0.40638, 0.16004, 0.31836, 0.95174, 0.80555, 0.9725, 0.598, 0.71414, 0.41472, 0.9439, -0.19399, 0.59869, 0.11125, -0.30819, -0.51483, -0.19392, 0.79899, 0.54536, 0.18225, 0.17604, -0.32438, -0.49649, 0.12753, 0.96332, 0.06709, -0.23181, -0.0152, 0.00713] \n",
      "\n",
      "Sorted massive:  [-0.54227, -0.51695, -0.51483, -0.51294, -0.50194, -0.49649, -0.49355, -0.49068, -0.48525, -0.46583, -0.46561, -0.46373, -0.46118, -0.43651, -0.4249, -0.41165, -0.41106, -0.40702, -0.40638, -0.39525, -0.39245, -0.38885, -0.38365, -0.37497, -0.37183, -0.36948, -0.35272, -0.33073, -0.32985, -0.32599, -0.32438, -0.32263, -0.3181, -0.31713, -0.3156, -0.30819, -0.30794, -0.3031, -0.2706, -0.26223, -0.26171, -0.24636, -0.24495, -0.23352, -0.23181, -0.21687, -0.19399, -0.19392, -0.18695, -0.1763, -0.17276, -0.1693, -0.16387, -0.14414, -0.14297, -0.13943, -0.13466, -0.13049, -0.12355, -0.11957, -0.11514, -0.11447, -0.11419, -0.10919, -0.10595, -0.09725, -0.08455, -0.07382, -0.07276, -0.06309, -0.06141, -0.04173, -0.03969, -0.01963, -0.01908, -0.0152, -0.00025, 0.00234, 0.00274, 0.00713, 0.00826, 0.01064, 0.02408, 0.02957, 0.0328, 0.03281, 0.04316, 0.0487, 0.05642, 0.06278, 0.06339, 0.06386, 0.06709, 0.07232, 0.08346, 0.09877, 0.10296, 0.11125, 0.12495, 0.12753, 0.14906, 0.16004, 0.16654, 0.17604, 0.18225, 0.18692, 0.20695, 0.2382, 0.24005, 0.25325, 0.25453, 0.25491, 0.27029, 0.27955, 0.28973, 0.29143, 0.30452, 0.31588, 0.31836, 0.3197, 0.3228, 0.32915, 0.33136, 0.34588, 0.38129, 0.38489, 0.39691, 0.40377, 0.4095, 0.41472, 0.424, 0.43017, 0.44312, 0.47376, 0.49311, 0.4944, 0.49855, 0.50173, 0.50395, 0.50766, 0.52391, 0.53028, 0.54536, 0.54748, 0.55516, 0.57031, 0.59327, 0.59429, 0.59634, 0.59774, 0.598, 0.59869, 0.62168, 0.62587, 0.62961, 0.64339, 0.65032, 0.67096, 0.68468, 0.68766, 0.69256, 0.69274, 0.70648, 0.71282, 0.71414, 0.72448, 0.72984, 0.7329, 0.73315, 0.74656, 0.74961, 0.75297, 0.76347, 0.78278, 0.78649, 0.79557, 0.79899, 0.80254, 0.80555, 0.82088, 0.82214, 0.8257, 0.83362, 0.8464, 0.84832, 0.87118, 0.87551, 0.88684, 0.88783, 0.89597, 0.90469, 0.9439, 0.95174, 0.95484, 0.96052, 0.96089, 0.963, 0.96332, 0.96539, 0.9725] \n",
      "\n",
      "Otrezzki:  [-0.54227, -0.35292, -0.16357, 0.02578, 0.21513, 0.40448, 0.59383, 0.78318, 0.9725] \n",
      "\n",
      "a_n:  [26, 27, 30, 24, 21, 19, 27, 26] 200 \n",
      "\n",
      "a_w:  [0.13, 0.135, 0.15, 0.12, 0.105, 0.095, 0.135, 0.13] 1.0 \n",
      "\n",
      "x_ravn:  [-0.4476, -0.25825, -0.06889, 0.12045, 0.3098, 0.49916, 0.6885, 0.87784] \n",
      "\n"
     ]
    }
   ],
   "source": [
    "#Zadanie 3 math generations\n",
    "lin2_ravn=[]#Xi\n",
    "lin1_ravn=[]#Ni\n",
    "lin3_ravn=[]#Wi\n",
    "\n",
    "lin2_ravn.clear()\n",
    "lin1_ravn.clear()\n",
    "lin3_ravn.clear()\n",
    "\n",
    "for i in range(200):\n",
    "    ran=np.random.uniform(a, b)\n",
    "    lin2_ravn.append(round(ran,5))\n",
    "    \n",
    "print('Our ravn massive: ',lin2_ravn,'\\n')\n",
    "lin2_ravn.sort()\n",
    "print('Sorted massive: ',lin2_ravn,'\\n')\n",
    "\n",
    "a_x_ravn=otrezok(lin2_ravn)\n",
    "a_n_ravn=gruppirovka(lin2_ravn,a_x_ravn)        \n",
    "a_w_ravn=[round((i/200),5) for i in a_n_ravn]\n",
    "\n",
    "print('a_n: ',a_n_ravn,sum(a_n_ravn),'\\n')\n",
    "print('a_w: ',a_w_ravn,round(sum(a_w_ravn),5),'\\n')  \n",
    "\n",
    "i=1#right border\n",
    "x_ravn=[]\n",
    "while i<m+1:\n",
    "    ran=(a_x_ravn[i-1]+a_x_ravn[i])/2\n",
    "    x_ravn.append(round(ran,5))\n",
    "    i+=1\n",
    "print('x_ravn: ',x_ravn,'\\n')"
   ]
  },
  {
   "cell_type": "code",
   "execution_count": 20,
   "metadata": {},
   "outputs": [
    {
     "name": "stdout",
     "output_type": "stream",
     "text": [
      "Sorted massive:  [-0.54227, -0.51695, -0.51483, -0.51294, -0.50194, -0.49649, -0.49355, -0.49068, -0.48525, -0.46583, -0.46561, -0.46373, -0.46118, -0.43651, -0.4249, -0.41165, -0.41106, -0.40702, -0.40638, -0.39525, -0.39245, -0.38885, -0.38365, -0.37497, -0.37183, -0.36948, -0.35272, -0.33073, -0.32985, -0.32599, -0.32438, -0.32263, -0.3181, -0.31713, -0.3156, -0.30819, -0.30794, -0.3031, -0.2706, -0.26223, -0.26171, -0.24636, -0.24495, -0.23352, -0.23181, -0.21687, -0.19399, -0.19392, -0.18695, -0.1763, -0.17276, -0.1693, -0.16387, -0.14414, -0.14297, -0.13943, -0.13466, -0.13049, -0.12355, -0.11957, -0.11514, -0.11447, -0.11419, -0.10919, -0.10595, -0.09725, -0.08455, -0.07382, -0.07276, -0.06309, -0.06141, -0.04173, -0.03969, -0.01963, -0.01908, -0.0152, -0.00025, 0.00234, 0.00274, 0.00713, 0.00826, 0.01064, 0.02408, 0.02957, 0.0328, 0.03281, 0.04316, 0.0487, 0.05642, 0.06278, 0.06339, 0.06386, 0.06709, 0.07232, 0.08346, 0.09877, 0.10296, 0.11125, 0.12495, 0.12753, 0.14906, 0.16004, 0.16654, 0.17604, 0.18225, 0.18692, 0.20695, 0.2382, 0.24005, 0.25325, 0.25453, 0.25491, 0.27029, 0.27955, 0.28973, 0.29143, 0.30452, 0.31588, 0.31836, 0.3197, 0.3228, 0.32915, 0.33136, 0.34588, 0.38129, 0.38489, 0.39691, 0.40377, 0.4095, 0.41472, 0.424, 0.43017, 0.44312, 0.47376, 0.49311, 0.4944, 0.49855, 0.50173, 0.50395, 0.50766, 0.52391, 0.53028, 0.54536, 0.54748, 0.55516, 0.57031, 0.59327, 0.59429, 0.59634, 0.59774, 0.598, 0.59869, 0.62168, 0.62587, 0.62961, 0.64339, 0.65032, 0.67096, 0.68468, 0.68766, 0.69256, 0.69274, 0.70648, 0.71282, 0.71414, 0.72448, 0.72984, 0.7329, 0.73315, 0.74656, 0.74961, 0.75297, 0.76347, 0.78278, 0.78649, 0.79557, 0.79899, 0.80254, 0.80555, 0.82088, 0.82214, 0.8257, 0.83362, 0.8464, 0.84832, 0.87118, 0.87551, 0.88684, 0.88783, 0.89597, 0.90469, 0.9439, 0.95174, 0.95484, 0.96052, 0.96089, 0.963, 0.96332, 0.96539, 0.9725] \n",
      "\n",
      "Otrezzki:  [-0.54227, -0.35292, -0.16357, 0.02578, 0.21513, 0.40448, 0.59383, 0.78318, 0.9725] \n",
      "\n",
      "a_n:  [26, 27, 30, 24, 21, 19, 27, 26] 200 \n",
      "\n",
      "a_w:  [0.13, 0.135, 0.15, 0.12, 0.105, 0.095, 0.135, 0.13] 1.0 \n",
      "\n",
      "x_ravn:  [-0.4476, -0.25825, -0.06889, 0.12045, 0.3098, 0.49916, 0.6885, 0.87784] \n",
      "\n"
     ]
    }
   ],
   "source": [
    "#saved 3-d distr\n",
    "lin2_ravn=[-0.54227, -0.51695, -0.51483, -0.51294, -0.50194, -0.49649, -0.49355, -0.49068, -0.48525, -0.46583, -0.46561, -0.46373, -0.46118, -0.43651, -0.4249, -0.41165, -0.41106, -0.40702, -0.40638, -0.39525, -0.39245, -0.38885, -0.38365, -0.37497, -0.37183, -0.36948, -0.35272, -0.33073, -0.32985, -0.32599, -0.32438, -0.32263, -0.3181, -0.31713, -0.3156, -0.30819, -0.30794, -0.3031, -0.2706, -0.26223, -0.26171, -0.24636, -0.24495, -0.23352, -0.23181, -0.21687, -0.19399, -0.19392, -0.18695, -0.1763, -0.17276, -0.1693, -0.16387, -0.14414, -0.14297, -0.13943, -0.13466, -0.13049, -0.12355, -0.11957, -0.11514, -0.11447, -0.11419, -0.10919, -0.10595, -0.09725, -0.08455, -0.07382, -0.07276, -0.06309, -0.06141, -0.04173, -0.03969, -0.01963, -0.01908, -0.0152, -0.00025, 0.00234, 0.00274, 0.00713, 0.00826, 0.01064, 0.02408, 0.02957, 0.0328, 0.03281, 0.04316, 0.0487, 0.05642, 0.06278, 0.06339, 0.06386, 0.06709, 0.07232, 0.08346, 0.09877, 0.10296, 0.11125, 0.12495, 0.12753, 0.14906, 0.16004, 0.16654, 0.17604, 0.18225, 0.18692, 0.20695, 0.2382, 0.24005, 0.25325, 0.25453, 0.25491, 0.27029, 0.27955, 0.28973, 0.29143, 0.30452, 0.31588, 0.31836, 0.3197, 0.3228, 0.32915, 0.33136, 0.34588, 0.38129, 0.38489, 0.39691, 0.40377, 0.4095, 0.41472, 0.424, 0.43017, 0.44312, 0.47376, 0.49311, 0.4944, 0.49855, 0.50173, 0.50395, 0.50766, 0.52391, 0.53028, 0.54536, 0.54748, 0.55516, 0.57031, 0.59327, 0.59429, 0.59634, 0.59774, 0.598, 0.59869, 0.62168, 0.62587, 0.62961, 0.64339, 0.65032, 0.67096, 0.68468, 0.68766, 0.69256, 0.69274, 0.70648, 0.71282, 0.71414, 0.72448, 0.72984, 0.7329, 0.73315, 0.74656, 0.74961, 0.75297, 0.76347, 0.78278, 0.78649, 0.79557, 0.79899, 0.80254, 0.80555, 0.82088, 0.82214, 0.8257, 0.83362, 0.8464, 0.84832, 0.87118, 0.87551, 0.88684, 0.88783, 0.89597, 0.90469, 0.9439, 0.95174, 0.95484, 0.96052, 0.96089, 0.963, 0.96332, 0.96539, 0.9725]\n",
    "print('Sorted massive: ',lin2_ravn,'\\n')\n",
    "\n",
    "a_x_ravn=otrezok(lin2_ravn)\n",
    "a_n_ravn=gruppirovka(lin2_ravn,a_x_ravn)        \n",
    "a_w_ravn=[round((i/200),5) for i in a_n_ravn]\n",
    "\n",
    "print('a_n: ',a_n_ravn,sum(a_n_ravn),'\\n')\n",
    "print('a_w: ',a_w_ravn,round(sum(a_w_ravn),5),'\\n')  \n",
    "\n",
    "i=1#right border\n",
    "x_ravn=[]\n",
    "while i<m+1:\n",
    "    ran=(a_x_ravn[i-1]+a_x_ravn[i])/2\n",
    "    x_ravn.append(round(ran,5))\n",
    "    i+=1\n",
    "print('x_ravn: ',x_ravn,'\\n')"
   ]
  },
  {
   "cell_type": "code",
   "execution_count": 21,
   "metadata": {},
   "outputs": [
    {
     "name": "stdout",
     "output_type": "stream",
     "text": [
      "A_otrezk:  [-0.54227, -0.35292, -0.16357, 0.02578, 0.21513, 0.40448, 0.59383, 0.78318, 0.9725]\n",
      "Numb of el-ts in ortez:  [26, 27, 30, 24, 21, 19, 27, 26]\n",
      "W relative frequency:  [0.13, 0.135, 0.15, 0.12, 0.105, 0.095, 0.135, 0.13]\n",
      "H for otrezk:  [0.68656, 0.71297, 0.79218, 0.63375, 0.55453, 0.50172, 0.71297, 0.68667]\n"
     ]
    },
    {
     "data": {
      "image/png": "[encoded data removed]",
      "text/plain": [
       "<matplotlib.figure.Figure at 0x23effe1a908>"
      ]
     },
     "metadata": {},
     "output_type": "display_data"
    }
   ],
   "source": [
    "from scipy.stats import uniform as un\n",
    "rcParams['figure.dpi']=100\n",
    "print('A_otrezk: ',a_x_ravn)\n",
    "print('Numb of el-ts in ortez: ',a_n_ravn)      \n",
    "print('W relative frequency: ',a_w_ravn)\n",
    "h_r=[]\n",
    "for i in range(m):\n",
    "    ran=round(a_w_ravn[i]/abs(a_x_ravn[i+1]-a_x_ravn[i]),5)\n",
    "    h_r.append(ran)\n",
    "print('H for otrezk: ',h_r)    \n",
    "\n",
    "death_box3=np.linspace(a_x_ravn[0],a_x_ravn[-1],500)\n",
    "plt.plot(death_box3,un.pdf(death_box3,loc=a,scale=abs(b-a)),'--',label='probabile')\n",
    "plt.hist(lin2_ravn, bins = m, density=True, facecolor='g', alpha=0.65,edgecolor='black',label='experimental')\n",
    "#plt.ylim((0, 4))\n",
    "plt.legend()\n",
    "plt.grid(True)\n",
    "plt.show()\n",
    "\n",
    "#plt.bar(x_ravn, height=h_r,width=abs(a_x_ravn[1]-a_x_ravn[0]),facecolor='khaki',edgecolor =['black' for i in range(m)])\n",
    "#plt.grid(True)\n",
    "#plt.show()"
   ]
  },
  {
   "cell_type": "code",
   "execution_count": 22,
   "metadata": {},
   "outputs": [
    {
     "data": {
      "image/png": "[encoded data removed]",
      "text/plain": [
       "<matplotlib.figure.Figure at 0x23eff808908>"
      ]
     },
     "metadata": {},
     "output_type": "display_data"
    },
    {
     "name": "stdout",
     "output_type": "stream",
     "text": [
      "Выборочное среднее : 0.19808\n",
      "Выборочная дисперсия with Sheppard : 0.1932\n",
      "Выборочное среднее квадратическое отклонение : 0.43955\n",
      "Выборочный Коэффициент асимметрии : 0.10315\n",
      "Выборочный Коэффициент эксцесса : -1.24319\n",
      "Выборочная мода : -0.10045\n",
      "Выборочное медиана : 0.15201\n",
      "\n",
      "Мат ожидание : 0.225\n",
      "Дисперсия : 0.20021\n",
      "Среднее квадратическое отклонение : 0.44745\n",
      "Коэффициент асимметрии : 0.0\n",
      "Коэффициент эксцесса : -1.2\n",
      "Мода : 0.225\n",
      "Медиана : 0.225\n",
      "\n",
      "real probabil2: [0.12216, 0.12216, 0.12216, 0.12216, 0.12216, 0.12216, 0.12216, 0.12214] 0.9772600000000001\n",
      "our probabil: [0.13, 0.135, 0.15, 0.12, 0.105, 0.095, 0.135, 0.13] 1.0\n",
      "abs difference:\n",
      "0.00784  0.01284  0.02784  0.00216  0.01716  0.02716  0.01284  0.00786  "
     ]
    }
   ],
   "source": [
    "from scipy.stats import uniform as un\n",
    "imperik_func(lin2_ravn)\n",
    "calculll(x_ravn,a_w_ravn,a_x_ravn)\n",
    "\n",
    "#===============================================================================\n",
    "#teoretical part\n",
    "print()\n",
    "Mat_ravn=(a+b)/2\n",
    "Disp_ravn=((b-a)**2)/12\n",
    "Sred_otkl_ravn=(b-a)/(2*(3**(0.5)))\n",
    "Moda_ravn=(a+b)/2 ####moda otrizhatel`\n",
    "Median_ravn=(a+b)/2\n",
    "K_as_ravn=0\n",
    "K_ecc_ravn=-6/5\n",
    "\n",
    "print('Мат ожидание :',float('{:.5f}'.format(Mat_ravn)))\n",
    "print('Дисперсия :',float('{:.5f}'.format(Disp_ravn)))\n",
    "print('Среднее квадратическое отклонение :',float('{:.5f}'.format(Sred_otkl_ravn)))\n",
    "print('Коэффициент асимметрии :',float('{:.5f}'.format(K_as_ravn)))\n",
    "print('Коэффициент эксцесса :',float('{:.5f}'.format(K_ecc_ravn)))\n",
    "print('Мода :',float('{:.5f}'.format(Moda_ravn)))\n",
    "print('Медиана :',float('{:.5f}'.format(Median_ravn)))\n",
    "\n",
    "print()\n",
    "\n",
    "yun1=[]\n",
    "for i in range(m):#compare answer with cdf function\n",
    "    yun1.append(round((a_x_ravn[i+1]-a)/(b-a) - (a_x_ravn[i]-a)/(b-a),5))\n",
    "\n",
    "#yun=un.pdf(x_ravn,loc=a,scale=abs(b-a))\n",
    "#print('real probabil:',yun,sum(yun))\n",
    "print('real probabil2:',yun1,sum(yun1))#,sum(yun1)\n",
    "print('our probabil:',a_w_ravn,sum(a_w_ravn))\n",
    "\n",
    "#yun1.clear()\n",
    "#for i in range(m):#compare answer with cdf function\n",
    "#    yun1.append(round(un.cdf(a_x_ravn[i+1],loc=a,scale=abs(b-a))-un.cdf(a_x_ravn[i],loc=a,scale=abs(b-a)),5))    \n",
    "#print('real probabil2:',yun1)#,sum(ypo)\n",
    "\n",
    "print('abs difference:')\n",
    "for i in range(m):\n",
    "    print(round(abs(yun1[i]-a_w_ravn[i]),5),' ',end='')"
   ]
  },
  {
   "cell_type": "code",
   "execution_count": 16,
   "metadata": {},
   "outputs": [
    {
     "data": {
      "image/png": "[encoded data removed]",
      "text/plain": [
       "<matplotlib.figure.Figure at 0x22248240630>"
      ]
     },
     "metadata": {},
     "output_type": "display_data"
    },
    {
     "name": "stdout",
     "output_type": "stream",
     "text": [
      "[-4.60533    -3.83890375 -3.0724775  -2.30605125 -1.539625   -0.77319875\n",
      " -0.0067725   0.75965375  1.52608   ]\n",
      "[0.00652378 0.03261892 0.15657084 0.27399897 0.36533195 0.28052275\n",
      " 0.15657084 0.03261892] <a list of 8 Patch objects>\n"
     ]
    }
   ],
   "source": [
    "import matplotlib.pyplot as plt\n",
    "#mu, sigma = 0, 0.1\n",
    "#s = np.random.normal(mu, sigma, 1000)\n",
    "count, bins, ignored = plt.hist(lin2_norm, 8, density=True)\n",
    "plt.plot(bins, 1/(sigma * np.sqrt(2 * np.pi)) *\n",
    "                np.exp( - (bins - A)**2 / (2 * sigma**2) ),\n",
    "          linewidth=2, color='r')\n",
    "plt.show()\n",
    "\n",
    "print(bins)\n",
    "print(count,ignored)"
   ]
  },
  {
   "cell_type": "code",
   "execution_count": null,
   "metadata": {
    "collapsed": true
   },
   "outputs": [],
   "source": []
  }
 ],
 "metadata": {
  "kernelspec": {
   "display_name": "Python 3",
   "language": "python",
   "name": "python3"
  },
  "language_info": {
   "codemirror_mode": {
    "name": "ipython",
    "version": 3
   },
   "file_extension": ".py",
   "mimetype": "text/x-python",
   "name": "python",
   "nbconvert_exporter": "python",
   "pygments_lexer": "ipython3",
   "version": "3.6.3"
  }
 },
 "nbformat": 4,
 "nbformat_minor": 2
}
