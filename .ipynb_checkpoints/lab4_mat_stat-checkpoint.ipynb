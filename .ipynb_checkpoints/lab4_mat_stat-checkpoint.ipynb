{
 "cells": [
  {
   "cell_type": "code",
   "execution_count": 1,
   "metadata": {},
   "outputs": [
    {
     "name": "stdout",
     "output_type": "stream",
     "text": [
      "variant 11\n"
     ]
    }
   ],
   "source": [
    "print(\"variant 11\")\n",
    "import random\n",
    "import numpy as np\n",
    "from matplotlib import pylab as plt\n",
    "from matplotlib import rcParams\n",
    "%matplotlib inline"
   ]
  },
  {
   "cell_type": "code",
   "execution_count": 2,
   "metadata": {},
   "outputs": [
    {
     "name": "stdout",
     "output_type": "stream",
     "text": [
      "[a,b]=[ -0.1 , 4.9 ]\n"
     ]
    }
   ],
   "source": [
    "v=11\n",
    "#N=270\n",
    "\n",
    "a=-0.10 \n",
    "b=4.9\n",
    "#a=1.6\n",
    "#b=9.1\n",
    "\n",
    "print('[a,b]=[',a,',',b,']')"
   ]
  },
  {
   "cell_type": "code",
   "execution_count": 3,
   "metadata": {
    "collapsed": true
   },
   "outputs": [],
   "source": [
    "def otrezok(massiv_xi):#problem with m - because different length of massive\n",
    "    m=1+int(np.log2(len(massiv_xi)))\n",
    "    print(m)\n",
    "    otrezzzki=[]\n",
    "    a0=massiv_xi[0]\n",
    "    am=massiv_xi[-1]\n",
    "    #dlinna=len(massiv_xi)\n",
    "    d=am-a0\n",
    "    d_del_m=d/m\n",
    "    otrezzzki.append(a0)\n",
    "    i=1\n",
    "    while i<m:\n",
    "        ai=d_del_m + otrezzzki[i-1]\n",
    "        otrezzzki.append(round(ai,5))\n",
    "        i+=1\n",
    "    otrezzzki.append(am)\n",
    "    print('Otrezzki: ',otrezzzki,'\\n')\n",
    "    return otrezzzki"
   ]
  },
  {
   "cell_type": "code",
   "execution_count": 4,
   "metadata": {
    "collapsed": true
   },
   "outputs": [],
   "source": [
    "def gruppirovka(lin2,a__x):\n",
    "    a__n=[]\n",
    "    ran,i=0,0\n",
    "    j=1#right border\n",
    "    while i<len(lin2):\n",
    "        if lin2[i]<=a__x[j]:\n",
    "            #i+=1\n",
    "            ran+=1\n",
    "            if i != len(lin2)-1:\n",
    "                i+=1\n",
    "                continue\n",
    "        a__n.append(ran)\n",
    "        ran=0\n",
    "        if lin2[i]>a__x[j]:\n",
    "            j+=1\n",
    "            continue\n",
    "        if i == len(lin2)-1:\n",
    "            break    \n",
    "    return a__n"
   ]
  },
  {
   "cell_type": "code",
   "execution_count": 5,
   "metadata": {
    "collapsed": true
   },
   "outputs": [],
   "source": [
    "def imperik_func(x):#masss2-Xi(lin2_bin) masss3-Wi(lin3_bin)\n",
    "    rcParams['figure.dpi']=100\n",
    "    xdel=[]\n",
    "    ydel=[]\n",
    "    #x=masss2\n",
    "    #y=masss2\n",
    "    boxdel=0\n",
    "    plt.title('Empirical distribution function')\n",
    "    plt.ylabel('sum(Wi)')\n",
    "    plt.xlabel('Xi')\n",
    "    plt.grid(True)\n",
    "    for i in range(len(x)):#problem !!! over 1\n",
    "        if i == len(x)-1:\n",
    "            xdel.append(x[i])\n",
    "            xdel.append(x[i]+1)\n",
    "            #boxdel=round((x[i]-a)/(b-a),5)#round((1)/(len(x)),5)\n",
    "            boxdel+=round((1)/(len(x)),5)\n",
    "            ydel.append(boxdel)\n",
    "            ydel.append(boxdel)\n",
    "        else:\n",
    "            xdel.append(x[i])\n",
    "            xdel.append(x[i+1])\n",
    "            boxdel+=round((1)/(len(x)),5)\n",
    "            #boxdel=round((x[i]-a)/(b-a),5)#round((1)/(len(x)),5)\n",
    "            ydel.append(boxdel)\n",
    "            ydel.append(boxdel)\n",
    "\n",
    "        plt.plot(xdel,ydel,color='black')\n",
    "        xdel.clear()\n",
    "        ydel.clear()\n",
    "    plt.show()"
   ]
  },
  {
   "cell_type": "code",
   "execution_count": 6,
   "metadata": {},
   "outputs": [
    {
     "name": "stdout",
     "output_type": "stream",
     "text": [
      "N= 225\n",
      "before sort: [3.09265, 4.368, 2.36105, 3.015, 0.88105, 1.04585, 3.27015, 1.4173, 3.2256, -0.0988, 0.69335, 0.5239, 4.7682, 1.8656, 0.51335, 1.70785, 0.3648, 1.1921, 0.02495, 2.3273, 0.11065, 3.3875, 0.88775, 0.11125, 3.6422, 3.6438, 2.7582, 1.8311, 3.91995, 0.8868, 3.50085, 0.84315, 1.6399, 1.8394, 4.6131, 1.80745, 3.22415, 2.48875, 2.35565, 3.3177, 3.0566, 3.8182, 2.56895, 4.43975, 4.46485, 0.727, 0.5293, 3.8505, -0.0268, 4.4706, 2.5809, 4.6175, 3.6856, 3.3377, -0.0151, 2.0307, 1.06945, 4.8728, 3.0188, 3.0998, 3.55795, 4.0819, 3.58455, 3.1386, 4.40135, 1.34245, 0.06795, 2.3226, 0.4914, 3.93045, 0.8429, 3.5005, 3.33265, 4.83145, 3.3671, 0.96895, 2.03855, 2.513, 3.7662, 4.2828, 3.4722, 3.78225, 0.9412, 1.78835, -0.02305, 1.81745, 2.2487, 2.9364, 2.36965, -0.0518, 3.4081, 4.762, 3.1233, 2.82785, 4.2314, 1.1173, 3.698, 1.5763, 1.33365, 1.7364, 0.7958, 4.78635, 1.4457, 3.76745, 3.5169, 1.55615, 0.74575, 4.02755, 3.12635, 4.01215, 2.9073, 2.26775, 4.5984, 0.5792, 1.32465, 1.98125, 0.9901, 1.55945, 0.15275, 4.8364, 0.7581, 1.25015, 2.59775, 2.0032, 2.2126, 1.72875, 4.3544, 0.333, 0.3519, 2.20015, 0.1244, 3.4809, 0.78105, 4.6146, 0.8194, 0.436, 2.0588, 4.6115, 2.46515, 4.67835, 1.95395, 1.7921, 3.76145, 2.41955, 1.8839, 4.4067, 2.7563, 1.16565, 3.2257, 1.5474, 2.6152, 3.0856, 4.71735, 4.2801, 2.6436, 4.17265, 2.0653, 2.34375, 2.75085, -0.09915, 2.47195, 3.6536, 3.55785, 2.3708, 1.57875, 2.38335, 3.1751, 4.28945, 1.0909, 3.24775, 1.36245, 0.0176, 4.70515, 4.19195, 4.07555, 2.12355, -0.04215, 1.8046, 3.0063, 4.0412, 0.4258, 1.651, 2.6028, 1.908, 3.2644, 3.8481, 3.3248, 3.974, 2.73765, 2.91265, -0.05215, 1.49795, 3.0318, 4.70825, 3.1495, 4.3197, 0.57735, 3.1795, 0.3369, 0.4149, 4.17535, 3.17585, 3.6903, 4.4289, 4.84145, 0.0436, 0.1125, 3.71015, 3.86575, 3.48945, 1.04925, 4.11215, 1.1796, 0.4825, 1.5046, 0.51155, 1.2565, 0.0731, 1.2617, 2.7205, 0.12755, 2.589, 0.8668, 1.26, 1.58925]\n",
      "\n",
      "after sort: [-0.09915, -0.0988, -0.05215, -0.0518, -0.04215, -0.0268, -0.02305, -0.0151, 0.0176, 0.02495, 0.0436, 0.06795, 0.0731, 0.11065, 0.11125, 0.1125, 0.1244, 0.12755, 0.15275, 0.333, 0.3369, 0.3519, 0.3648, 0.4149, 0.4258, 0.436, 0.4825, 0.4914, 0.51155, 0.51335, 0.5239, 0.5293, 0.57735, 0.5792, 0.69335, 0.727, 0.74575, 0.7581, 0.78105, 0.7958, 0.8194, 0.8429, 0.84315, 0.8668, 0.88105, 0.8868, 0.88775, 0.9412, 0.96895, 0.9901, 1.04585, 1.04925, 1.06945, 1.0909, 1.1173, 1.16565, 1.1796, 1.1921, 1.25015, 1.2565, 1.26, 1.2617, 1.32465, 1.33365, 1.34245, 1.36245, 1.4173, 1.4457, 1.49795, 1.5046, 1.5474, 1.55615, 1.55945, 1.5763, 1.57875, 1.58925, 1.6399, 1.651, 1.70785, 1.72875, 1.7364, 1.78835, 1.7921, 1.8046, 1.80745, 1.81745, 1.8311, 1.8394, 1.8656, 1.8839, 1.908, 1.95395, 1.98125, 2.0032, 2.0307, 2.03855, 2.0588, 2.0653, 2.12355, 2.20015, 2.2126, 2.2487, 2.26775, 2.3226, 2.3273, 2.34375, 2.35565, 2.36105, 2.36965, 2.3708, 2.38335, 2.41955, 2.46515, 2.47195, 2.48875, 2.513, 2.56895, 2.5809, 2.589, 2.59775, 2.6028, 2.6152, 2.6436, 2.7205, 2.73765, 2.75085, 2.7563, 2.7582, 2.82785, 2.9073, 2.91265, 2.9364, 3.0063, 3.015, 3.0188, 3.0318, 3.0566, 3.0856, 3.09265, 3.0998, 3.1233, 3.12635, 3.1386, 3.1495, 3.1751, 3.17585, 3.1795, 3.22415, 3.2256, 3.2257, 3.24775, 3.2644, 3.27015, 3.3177, 3.3248, 3.33265, 3.3377, 3.3671, 3.3875, 3.4081, 3.4722, 3.4809, 3.48945, 3.5005, 3.50085, 3.5169, 3.55785, 3.55795, 3.58455, 3.6422, 3.6438, 3.6536, 3.6856, 3.6903, 3.698, 3.71015, 3.76145, 3.7662, 3.76745, 3.78225, 3.8182, 3.8481, 3.8505, 3.86575, 3.91995, 3.93045, 3.974, 4.01215, 4.02755, 4.0412, 4.07555, 4.0819, 4.11215, 4.17265, 4.17535, 4.19195, 4.2314, 4.2801, 4.2828, 4.28945, 4.3197, 4.3544, 4.368, 4.40135, 4.4067, 4.4289, 4.43975, 4.46485, 4.4706, 4.5984, 4.6115, 4.6131, 4.6146, 4.6175, 4.67835, 4.70515, 4.70825, 4.71735, 4.762, 4.7682, 4.78635, 4.83145, 4.8364, 4.84145, 4.8728] \n",
      "\n",
      "8\n",
      "Otrezzki:  [-0.09915, 0.52234, 1.14383, 1.76532, 2.38681, 3.0083, 3.62979, 4.25128, 4.8728] \n",
      "\n",
      "a_n:  [30, 25, 26, 30, 22, 36, 28, 28] 225 \n",
      "\n",
      "a_w:  [0.13333, 0.11111, 0.11556, 0.13333, 0.09778, 0.16, 0.12444, 0.12444] 0.99999 \n",
      "\n",
      "x_*:  [0.2116, 0.83308, 1.45457, 2.07606, 2.69756, 3.31905, 3.94054, 4.56204] \n",
      "\n"
     ]
    }
   ],
   "source": [
    "#Задание I. UD-2  при проверке гипотезы о нормальном распределении a=-0,10 b=4,9\n",
    "#a=-0,10  v 1.6\n",
    "#b=4,9  v 9.1\n",
    "lin2_1=[3.09265,4.36800,2.36105,3.01500,0.88105,1.04585,3.27015,1.41730,3.22560,\n",
    "-0.09880,0.69335,0.52390,4.76820,1.86560,0.51335,1.70785,0.36480,1.19210,\n",
    "0.02495,2.32730,0.11065,3.38750,0.88775,0.11125,3.64220,3.64380,2.75820,\n",
    "1.83110,3.91995,0.88680,3.50085,0.84315,1.63990,1.83940,4.61310,1.80745,\n",
    "3.22415,2.48875,2.35565,3.31770,3.05660,3.81820,2.56895,4.43975,4.46485,\n",
    "0.72700,0.52930,3.85050,-0.02680,4.47060,2.58090,4.61750,3.68560,3.33770,\n",
    "-0.01510,2.03070,1.06945,4.87280,3.01880,3.09980,3.55795,4.08190,3.58455,\n",
    "3.13860,4.40135,1.34245,0.06795,2.32260,0.49140,3.93045,0.84290,3.50050,\n",
    "3.33265,4.83145,3.36710,0.96895,2.03855,2.51300,3.76620,4.28280,3.47220,\n",
    "3.78225,0.94120,1.78835,-0.02305,1.81745,2.24870,2.93640,2.36965,-0.05180,\n",
    "3.40810,4.76200,3.12330,2.82785,4.23140,1.11730,3.69800,1.57630,1.33365,\n",
    "1.73640,0.79580,4.78635,1.44570,3.76745,3.51690,1.55615,0.74575,4.02755,\n",
    "3.12635,4.01215,2.90730,2.26775,4.59840,0.57920,1.32465,1.98125,0.99010,\n",
    "1.55945,0.15275,4.83640,0.75810,1.25015,2.59775,2.00320,2.21260,1.72875,\n",
    "4.35440,0.33300,0.35190,2.20015,0.12440,3.48090,0.78105,4.61460,0.81940,\n",
    "0.43600,2.05880,4.61150,2.46515,4.67835,1.95395,1.79210,3.76145,2.41955,\n",
    "1.88390,4.40670,2.75630,1.16565,3.22570,1.54740,2.61520,3.08560,4.71735,\n",
    "4.28010,2.64360,4.17265,2.06530,2.34375,2.75085,-0.09915,2.47195,3.65360,\n",
    "3.55785,2.37080,1.57875,2.38335,3.17510,4.28945,1.09090,3.24775,1.36245,\n",
    "0.01760,4.70515,4.19195,4.07555,2.12355,-0.04215,1.80460,3.00630,4.04120,\n",
    "0.42580,1.65100,2.60280,1.90800,3.26440,3.84810,3.32480,3.97400,2.73765,\n",
    "2.91265,-0.05215,1.49795,3.03180,4.70825,3.14950,4.31970,0.57735,3.17950,\n",
    "0.33690,0.41490,4.17535,3.17585,3.69030,4.42890,4.84145,0.04360,0.11250,\n",
    "3.71015,3.86575,3.48945,1.04925,4.11215,1.17960,0.48250,1.50460,0.51155,\n",
    "1.25650,0.07310,1.26170,2.72050,0.12755,2.58900,0.86680,1.26000,1.58925]\n",
    "N=len(lin2_1)\n",
    "print('N=',N)\n",
    "m=1+int(np.log2(len(lin2_1)))\n",
    "\n",
    "print('before sort:',lin2_1)\n",
    "lin2_1.sort()\n",
    "print()\n",
    "print('after sort:',lin2_1,'\\n')\n",
    "\n",
    "a_x_1=otrezok(lin2_1)\n",
    "a_n_1=gruppirovka(lin2_1,a_x_1)  \n",
    "a_w_1=[round((i/N),5) for i in a_n_1]\n",
    "\n",
    "print('a_n: ',a_n_1,sum(a_n_1),'\\n')\n",
    "print('a_w: ',a_w_1,round(sum(a_w_1),5),'\\n')\n",
    "\n",
    "i=1#right border\n",
    "x_1=[]\n",
    "while i<m+1:\n",
    "    ran=(a_x_1[i-1]+a_x_1[i])/2\n",
    "    x_1.append(round(ran,5))\n",
    "    i+=1\n",
    "print('x_*: ',x_1,'\\n')#X*i"
   ]
  },
  {
   "cell_type": "code",
   "execution_count": 7,
   "metadata": {},
   "outputs": [
    {
     "name": "stdout",
     "output_type": "stream",
     "text": [
      "N=  225\n",
      "132 0.03459\n",
      "\n",
      " a\t  b\t  N  \t Dn\t \tDn*sqrt(N)\t x*\t \tF(x*)\t \tFn(x*)\t \tFn(x*-0)\t\n",
      "-0.1    4.9     225 \t 0.03459 \t 0.51885 \t 3.0063 \t 0.62126 \t 0.59111 \t 0.58667\n",
      "\n",
      "Kolmogorov by function: KstestResult(statistic=0.047272108843537386, pvalue=0.7093037416742942)\n"
     ]
    }
   ],
   "source": [
    "from scipy.stats import uniform as un\n",
    "from scipy import stats\n",
    "#calculll(x_1,a_w_1,a_x_1)\n",
    "#lina2-X*i - x_norm/_poc/_ravn;lina1-a_n;lina3-a_w;AAA-Otrezzki(a_x_norm/etc)\n",
    "#plt.plot(a_x_1,norm.pdf(a_x_1,loc=Mat_oz,scale=D_),'--',label='probabile')\n",
    "N=len(lin2_1)\n",
    "print('N= ',N)\n",
    "\n",
    "lina2=x_1\n",
    "a_w=a_w_1\n",
    "AAA=a_x_1\n",
    "#===============================================================================\n",
    "#Table 1\n",
    "#round(,5) ; round(abs(a_x_1[i-1]-P_k[i-1]),5)\n",
    "#lin2_1[] ;F=round((x[i]-a)/(b-a),5); F_N(xj-0)=(j-1)/N; F_N_(xj)=j/N\n",
    "\n",
    "maximal_massive=[]\n",
    "maximal_massive.clear()\n",
    "Dn=0\n",
    "Dn_sq_n=0\n",
    "x_zvez=0\n",
    "F=0\n",
    "F_N_x_zv=0\n",
    "F_N_x_zv_0=0\n",
    "for j in range(N+1):\n",
    "    if j == 0:\n",
    "        continue\n",
    "    maximal_massive.append(round(max(abs(j/N - (lin2_1[j-1]-a)/(b-a)),abs((j-1)/N - (lin2_1[j-1]-a)/(b-a))),5))\n",
    "    \n",
    "#print(maximal_massive)\n",
    "Dn=max(maximal_massive)\n",
    "Dn_sq_n=round(Dn*(N**0.5),5)\n",
    "indexxx=maximal_massive.index(Dn)#for x*\n",
    "print(indexxx,maximal_massive[indexxx])\n",
    "x_zvez=lin2_1[indexxx]\n",
    "F=round((x_zvez-a)/(b-a),5)\n",
    "F_N_x_zv=round((indexxx+1)/N,5)\n",
    "F_N_x_zv_0=round((indexxx)/N,5)\n",
    "\n",
    "print('\\n a\\t',' b\\t',' N ','\\t Dn\\t','\\tDn*sqrt(N)\\t','x*\\t','\\tF(x*)\\t','\\tFn(x*)\\t','\\tFn(x*-0)\\t')\n",
    "print(a,'  ',b,'   ',N,'\\t',Dn,'\\t',Dn_sq_n,'\\t',x_zvez,'\\t',F,'\\t',F_N_x_zv,'\\t',F_N_x_zv_0)   \n",
    "#print(F-F_N_x_zv,F-F_N_x_zv_0)\n",
    "print('\\nKolmogorov by function:',stats.kstest(lin2_1,'uniform',args={a,b}))\n"
   ]
  },
  {
   "cell_type": "code",
   "execution_count": 11,
   "metadata": {},
   "outputs": [
    {
     "name": "stdout",
     "output_type": "stream",
     "text": [
      "\n",
      "Kolmogorov by function: KstestResult(statistic=0.034593333333333365, pvalue=0.9505544752104891)\n"
     ]
    }
   ],
   "source": [
    "\n",
    "print('\\nKolmogorov by function:',stats.kstest(lin2_1,un(loc=a,scale=abs(b-a)).cdf))"
   ]
  },
  {
   "cell_type": "code",
   "execution_count": 8,
   "metadata": {},
   "outputs": [
    {
     "name": "stdout",
     "output_type": "stream",
     "text": [
      "A_otrezk:  [-0.09915, 0.52234, 1.14383, 1.76532, 2.38681, 3.0083, 3.62979, 4.25128, 4.8728]\n",
      "Numb of el-ts in ortez:  [30, 25, 26, 30, 22, 36, 28, 28]\n",
      "W relative frequency:  [0.13333, 0.11111, 0.11556, 0.13333, 0.09778, 0.16, 0.12444, 0.12444]\n"
     ]
    },
    {
     "data": {
      "image/png": "[encoded data removed]",
      "text/plain": [
       "<matplotlib.figure.Figure at 0x22d35e6b2e8>"
      ]
     },
     "metadata": {},
     "output_type": "display_data"
    },
    {
     "name": "stdout",
     "output_type": "stream",
     "text": [
      "3.0063\n"
     ]
    }
   ],
   "source": [
    "from scipy.stats import uniform as un\n",
    "rcParams['figure.dpi']=120\n",
    "print('A_otrezk: ',a_x_1)\n",
    "print('Numb of el-ts in ortez: ',a_n_1)       \n",
    "print('W relative frequency: ',a_w_1)\n",
    "\n",
    "#imperik_func(lin2_1)\n",
    "\n",
    "#def imperik_func(x):#masss2-Xi(lin2_bin) masss3-Wi(lin3_bin)\n",
    "#rcParams['figure.dpi']=100\n",
    "xdel=[]\n",
    "ydel=[]\n",
    "#x=masss2\n",
    "#y=masss2\n",
    "boxdel=0\n",
    "plt.title('Empirical distribution function')\n",
    "plt.ylabel('sum(Wi)')\n",
    "plt.xlabel('Xi')\n",
    "plt.grid(True)\n",
    "for i in range(len(lin2_1)):#problem !!! over 1\n",
    "    if i == len(lin2_1)-1:\n",
    "        xdel.append(lin2_1[i])\n",
    "        xdel.append(lin2_1[i]+1)\n",
    "        boxdel+=round((1)/(len(lin2_1)),5)\n",
    "        #boxdel=round((lin2_1[i]-a)/(b-a),5)#round((1)/(len(x)),5)\n",
    "        ydel.append(boxdel)\n",
    "        ydel.append(boxdel)\n",
    "    else:\n",
    "        xdel.append(lin2_1[i])\n",
    "        xdel.append(lin2_1[i+1])\n",
    "        boxdel+=round((1)/(len(lin2_1)),5)\n",
    "        #boxdel=round((lin2_1[i]-a)/(b-a),5)#round((1)/(len(x)),5)\n",
    "        ydel.append(boxdel)\n",
    "        ydel.append(boxdel)\n",
    "\n",
    "    plt.plot(xdel,ydel,color='black')\n",
    "    xdel.clear()\n",
    "    ydel.clear()\n",
    "#plt.show()\n",
    "\n",
    "death_box=np.linspace(a_x_1[0],a_x_1[-1],225)\n",
    "plt.plot(death_box,un.cdf(death_box,loc=a,scale=abs(b-a)),'-',label='probabile',color='r')#is it correct(use python pdf)\n",
    "#plt.plot([-0.1,4.9],[0,1],'-',label='probabile',color='blue')\n",
    "plt.yticks(np.arange(0.0,1.1,0.1))\n",
    "plt.legend()\n",
    "plt.grid(True)\n",
    "plt.show()\n",
    "\n",
    "print(lin2_1[indexxx])"
   ]
  },
  {
   "cell_type": "code",
   "execution_count": 34,
   "metadata": {},
   "outputs": [
    {
     "name": "stdout",
     "output_type": "stream",
     "text": [
      "M= 180\n",
      "before sort: [0.407, 2.36375, 0.35765, 0.64325, 0.1769, 4.5962, 3.3262, 4.8742, 4.0, 1.5628, 4.8671, 4.23115, 0.82335, 1.80805, 4.70395, 3.24485, 4.71435, 2.272, 0.7375, 1.948, -0.01785, 2.792, 1.62835, 3.0615, 0.72, 3.9504, 0.0825, 0.3944, 3.34575, 1.33265, 1.3993, 4.8249, 3.43285, 2.3736, 3.9236, 2.1123, -0.0308, 0.45005, 0.5482, 1.49185, 2.5908, 2.9204, 0.49515, 0.79745, -0.0563, 1.5357, 3.01575, 1.18465, 4.05315, 2.93125, 2.2651, 2.8001, 4.853, 4.29055, 3.66015, 3.68515, 4.35935, 0.6405, 2.4948, 4.87455, 1.60135, 4.69815, 0.52875, 2.8393, 2.6442, 1.73075, 3.95875, 0.0716, 4.8314, 2.14215, 1.04775, 3.78555, 4.4273, 4.1585, 2.88255, 4.2512, 2.5532, 3.2966, 0.5201, 0.2448, 4.481, 0.35665, 4.1429, 1.12715, 2.24645, 4.7267, 3.14525, 1.4025, 2.84495, 2.94635, 3.5373, 1.4969, 1.4992, 0.61495, 0.0073, 1.8927, 0.40095, 1.14695, 1.5705, 4.17815, 0.4326, 1.5559, 1.49015, 4.807, 4.88985, 2.00495, 4.4127, 2.0709, 0.39485, 4.6483, 2.2501, 1.50385, 3.80065, 2.4806, 1.6967, 2.76105, 3.25565, 0.46795, 3.57225, 3.69125, 1.3825, 0.84695, 0.1022, 0.77825, 3.1172, 1.08995, 4.6637, 2.98605, 0.713, 4.45135, 3.16255, 4.2619, 1.5459, 4.50625, 3.48155, 0.9976, 1.29265, 0.58265, 4.6318, 4.22415, 2.72145, 2.3693, 2.46725, 2.58015, 0.27535, 3.876, 1.26175, 2.46285, 2.09225, 4.4473, -0.04575, 1.87425, 4.1073, 4.7681, 4.31895, 3.7427, 4.8728, 0.8077, 3.48285, 4.8337, 4.0886, 3.9182, 3.29895, 2.5143, 4.5709, 3.2341, 3.87305, 0.8039, -0.0446, 2.21755, 2.8224, 4.60115, 1.3682, 1.60325, 0.79385, 1.9793, 2.5204, 0.5151, 3.3501, 2.67225]\n",
      "\n",
      "after sort: [-0.0563, -0.04575, -0.0446, -0.0308, -0.01785, 0.0073, 0.0716, 0.0825, 0.1022, 0.1769, 0.2448, 0.27535, 0.35665, 0.35765, 0.3944, 0.39485, 0.40095, 0.407, 0.4326, 0.45005, 0.46795, 0.49515, 0.5151, 0.5201, 0.52875, 0.5482, 0.58265, 0.61495, 0.6405, 0.64325, 0.713, 0.72, 0.7375, 0.77825, 0.79385, 0.79745, 0.8039, 0.8077, 0.82335, 0.84695, 0.9976, 1.04775, 1.08995, 1.12715, 1.14695, 1.18465, 1.26175, 1.29265, 1.33265, 1.3682, 1.3825, 1.3993, 1.4025, 1.49015, 1.49185, 1.4969, 1.4992, 1.50385, 1.5357, 1.5459, 1.5559, 1.5628, 1.5705, 1.60135, 1.60325, 1.62835, 1.6967, 1.73075, 1.80805, 1.87425, 1.8927, 1.948, 1.9793, 2.00495, 2.0709, 2.09225, 2.1123, 2.14215, 2.21755, 2.24645, 2.2501, 2.2651, 2.272, 2.36375, 2.3693, 2.3736, 2.46285, 2.46725, 2.4806, 2.4948, 2.5143, 2.5204, 2.5532, 2.58015, 2.5908, 2.6442, 2.67225, 2.72145, 2.76105, 2.792, 2.8001, 2.8224, 2.8393, 2.84495, 2.88255, 2.9204, 2.93125, 2.94635, 2.98605, 3.01575, 3.0615, 3.1172, 3.14525, 3.16255, 3.2341, 3.24485, 3.25565, 3.2966, 3.29895, 3.3262, 3.34575, 3.3501, 3.43285, 3.48155, 3.48285, 3.5373, 3.57225, 3.66015, 3.68515, 3.69125, 3.7427, 3.78555, 3.80065, 3.87305, 3.876, 3.9182, 3.9236, 3.9504, 3.95875, 4.0, 4.05315, 4.0886, 4.1073, 4.1429, 4.1585, 4.17815, 4.22415, 4.23115, 4.2512, 4.2619, 4.29055, 4.31895, 4.35935, 4.4127, 4.4273, 4.4473, 4.45135, 4.481, 4.50625, 4.5709, 4.5962, 4.60115, 4.6318, 4.6483, 4.6637, 4.69815, 4.70395, 4.71435, 4.7267, 4.7681, 4.807, 4.8249, 4.8314, 4.8337, 4.853, 4.8671, 4.8728, 4.8742, 4.87455, 4.88985] \n",
      "\n",
      "8\n",
      "Otrezzki:  [-0.0563, 0.56197, 1.18024, 1.79851, 2.41678, 3.03505, 3.65332, 4.27159, 4.88985] \n",
      "\n",
      "a_n:  [26, 19, 23, 18, 24, 17, 23, 30] 180 \n",
      "\n",
      "a_w:  [0.11556, 0.08444, 0.10222, 0.08, 0.10667, 0.07556, 0.10222, 0.13333] 0.8 \n",
      "\n",
      "x_*:  [0.25283, 0.87111, 1.48937, 2.10765, 2.72592, 3.34418, 3.96245, 4.58072] \n",
      "\n"
     ]
    }
   ],
   "source": [
    "#Задание II UD-3.гипотеза о равномер распред interval parametrs : a=-0.10 b=4.9\n",
    "lin2_2=[0.40700,2.36375,0.35765,0.64325,0.17690,4.59620,3.32620,4.87420,4.00000,\n",
    "1.56280,4.86710,4.23115,0.82335,1.80805,4.70395,3.24485,4.71435,2.27200,\n",
    "0.73750,1.94800,-0.01785,2.79200,1.62835,3.06150,0.72000,3.95040,0.08250,\n",
    "0.39440,3.34575,1.33265,1.39930,4.82490,3.43285,2.37360,3.92360,2.11230,\n",
    "-0.03080,0.45005,0.54820,1.49185,2.59080,2.92040,0.49515,0.79745,-0.05630,\n",
    "1.53570,3.01575,1.18465,4.05315,2.93125,2.26510,2.80010,4.85300,4.29055,\n",
    "3.66015,3.68515,4.35935,0.64050,2.49480,4.87455,1.60135,4.69815,0.52875,\n",
    "2.83930,2.64420,1.73075,3.95875,0.07160,4.83140,2.14215,1.04775,3.78555,\n",
    "4.42730,4.15850,2.88255,4.25120,2.55320,3.29660,0.52010,0.24480,4.48100,\n",
    "0.35665,4.14290,1.12715,2.24645,4.72670,3.14525,1.40250,2.84495,2.94635,\n",
    "3.53730,1.49690,1.49920,0.61495,0.00730,1.89270,0.40095,1.14695,1.57050,\n",
    "4.17815,0.43260,1.55590,1.49015,4.80700,4.88985,2.00495,4.41270,2.07090,\n",
    "0.39485,4.64830,2.25010,1.50385,3.80065,2.48060,1.69670,2.76105,3.25565,\n",
    "0.46795,3.57225,3.69125,1.38250,0.84695,0.10220,0.77825,3.11720,1.08995,\n",
    "4.66370,2.98605,0.71300,4.45135,3.16255,4.26190,1.54590,4.50625,3.48155,\n",
    "0.99760,1.29265,0.58265,4.63180,4.22415,2.72145,2.36930,2.46725,2.58015,\n",
    "0.27535,3.87600,1.26175,2.46285,2.09225,4.44730,-0.04575,1.87425,4.10730,\n",
    "4.76810,4.31895,3.74270,4.87280,0.80770,3.48285,4.83370,4.08860,3.91820,\n",
    "3.29895,2.51430,4.57090,3.23410,3.87305,0.80390,-0.04460,2.21755,2.82240,\n",
    "4.60115,1.36820,1.60325,0.79385,1.97930,2.52040,0.51510,3.35010,2.67225]\n",
    "M=len(lin2_2)\n",
    "print('M=',M)\n",
    "print('before sort:',lin2_2)\n",
    "lin2_2.sort()\n",
    "print()\n",
    "print('after sort:',lin2_2,'\\n')\n",
    "\n",
    "a_x_2=otrezok(lin2_2)\n",
    "a_n_2=gruppirovka(lin2_2,a_x_2)  \n",
    "a_w_2=[round((i/N),5) for i in a_n_2]\n",
    "\n",
    "print('a_n: ',a_n_2,sum(a_n_2),'\\n')\n",
    "print('a_w: ',a_w_2,round(sum(a_w_2),5),'\\n')\n",
    "\n",
    "i=1#right border\n",
    "x_2=[]\n",
    "while i<m+1:\n",
    "    ran=(a_x_2[i-1]+a_x_2[i])/2\n",
    "    x_2.append(round(ran,5))\n",
    "    i+=1\n",
    "print('x_*: ',x_2,'\\n')#X*i"
   ]
  },
  {
   "cell_type": "code",
   "execution_count": 52,
   "metadata": {
    "collapsed": true
   },
   "outputs": [],
   "source": [
    "def Func_Mx(el_t_viborka1):#compare with lin2_2\n",
    "    \n",
    "    if el_t_viborka1<lin2_2[0]:\n",
    "        return 0\n",
    "    elif el_t_viborka1>=lin2_2[M-1]:\n",
    "        return 1\n",
    "    else:\n",
    "        k=0\n",
    "        while lin2_2[k+1]<el_t_viborka1:\n",
    "            #print(el_t_viborka1,lin2_2[k+1])\n",
    "            k+=1\n",
    "            \n",
    "        return (k+1)/M"
   ]
  },
  {
   "cell_type": "code",
   "execution_count": 54,
   "metadata": {
    "collapsed": true
   },
   "outputs": [],
   "source": [
    "def Func_Ny(el_t_viborka2):#compare with lin2_1\n",
    "    \n",
    "    if el_t_viborka2<lin2_1[0]:\n",
    "        return 0\n",
    "    elif el_t_viborka2>=lin2_1[N-1]:\n",
    "        return 1       \n",
    "    else:\n",
    "        j=0\n",
    "        while lin2_1[j+1]<el_t_viborka2:\n",
    "            j+=1\n",
    "            \n",
    "        return (j+1)/N"
   ]
  },
  {
   "cell_type": "code",
   "execution_count": 55,
   "metadata": {},
   "outputs": [
    {
     "name": "stdout",
     "output_type": "stream",
     "text": [
      "M=  180\n",
      "\n",
      " N\t  M\t  D_NM  \tK_NM_sqrt\t x*\t \tF_N(x*)\t \tF_N(x*-0)\t F_M(x*)\t F_M(x*-0)\n",
      "225     180     0.07889 \t 0.7889 \t 3.86575 \t 0.81778 \t 0.81333 \t 0.73889 \t ---\n",
      "\n",
      "Kolmogorov by function: Ks_2sampResult(statistic=0.0788888888888889, pvalue=0.5454065839094648)\n"
     ]
    }
   ],
   "source": [
    "from scipy.stats import uniform as un\n",
    "from scipy import stats\n",
    "#calculll(x_1,a_w_1,a_x_1)\n",
    "#lina2-X*i - x_norm/_poc/_ravn;lina1-a_n;lina3-a_w;AAA-Otrezzki(a_x_norm/etc)\n",
    "#plt.plot(a_x_1,norm.pdf(a_x_1,loc=Mat_oz,scale=D_),'--',label='probabile')\n",
    "M=len(lin2_2)\n",
    "N=len(lin2_1)\n",
    "print('M= ',M)\n",
    "\n",
    "lina2=x_2\n",
    "a_w=a_w_2\n",
    "AAA=a_x_2\n",
    "#===============================================================================\n",
    "#Table 1\n",
    "#round(,5) ; round(abs(a_x_1[i-1]-P_k[i-1]),5)\n",
    "#lin2_1[] ;F=round((x[i]-a)/(b-a),5); F_N(xj-0)=(j-1)/N; F_N_(xj)=j/N\n",
    "\n",
    "#k,j=1,1\n",
    "#while 1: N-lin2_1 ;M-lin2_2\n",
    "maximal_massive_Mx=[]\n",
    "maximal_massive_Mx.clear()\n",
    "for j in range(N+1):\n",
    "    if j == 0:\n",
    "        continue\n",
    "    maximal_massive_Mx.append(round(max(abs(j/N - Func_Mx(lin2_1[j-1])),abs((j-1)/N - Func_Mx(lin2_1[j-1]))),5))\n",
    "\n",
    "#maximal_massive_Mx.sort()\n",
    "#print(maximal_massive_Mx)\n",
    "Dm1=max(maximal_massive_Mx)\n",
    "indexxx1=maximal_massive_Mx.index(Dm1)#for x*\n",
    "x_zvez1=lin2_1[indexxx1]     \n",
    "\n",
    "maximal_massive_Ny=[]\n",
    "maximal_massive_Ny.clear()\n",
    "for k in range(M+1):\n",
    "    if k == 0:\n",
    "        continue\n",
    "    maximal_massive_Ny.append(round(max(abs(k/M - Func_Ny(lin2_2[k-1])),abs((k-1)/M - Func_Ny(lin2_2[k-1]))),5))\n",
    "\n",
    "#maximal_massive_Ny.sort()\n",
    "#print(maximal_massive_Ny)\n",
    "Dm2=max(maximal_massive_Ny)\n",
    "indexxx2=maximal_massive_Ny.index(Dm2)#for x*\n",
    "x_zvez2=lin2_2[indexxx2] \n",
    "\n",
    "\n",
    "if Dm1 >=Dm2:\n",
    "    x_zvezda=x_zvez1\n",
    "    D_NM=Dm1\n",
    "    flag=1#to control where is max D_NM,here is from viborka 1\n",
    "else:\n",
    "    x_zvezda=x_zvez2\n",
    "    D_NM=Dm2\n",
    "    flag=2#to control where is max D_NM\n",
    "\n",
    "    \n",
    "#===============================================================================\n",
    "#===============================================================================\n",
    "\n",
    "K_NM_sqrt=round(D_NM*(((N*M)/(N+M))**0.5),5)\n",
    "if flag==1:\n",
    "    F2_N=round((indexxx1+1)/N,5)\n",
    "    F_N_x_zv_0=round((indexxx1)/N,5)\n",
    "    F2_M=round(Func_Mx(x_zvezda),5)\n",
    "    F_M_x_zv_0='---'\n",
    "elif flag==2:\n",
    "    F2_N=round(Func_Ny(x_zvezda),5)\n",
    "    F_N_x_zv_0='---'\n",
    "    F2_M=round((indexxx2+1)/M,5)\n",
    "    F_M_x_zv_0=round((indexxx2)/M,5)\n",
    "\n",
    "print('\\n N\\t',' M\\t',' D_NM ','\\tK_NM_sqrt\\t','x*\\t','\\tF_N(x*)\\t','\\tF_N(x*-0)\\t','F_M(x*)\\t','F_M(x*-0)')\n",
    "print(N,'   ',M,'   ',D_NM,'\\t',K_NM_sqrt,'\\t',x_zvezda,'\\t',F2_N,'\\t',F_N_x_zv_0,'\\t',F2_M,'\\t',F_M_x_zv_0)   \n",
    "\n",
    "print('\\nKolmogorov by function:',stats.ks_2samp(lin2_1, lin2_2))"
   ]
  },
  {
   "cell_type": "code",
   "execution_count": 38,
   "metadata": {},
   "outputs": [
    {
     "name": "stdout",
     "output_type": "stream",
     "text": [
      "A_otrezk:  [-0.0563, 0.56197, 1.18024, 1.79851, 2.41678, 3.03505, 3.65332, 4.27159, 4.88985]\n",
      "Numb of el-ts in ortez:  [26, 19, 23, 18, 24, 17, 23, 30]\n",
      "W relative frequency:  [0.11556, 0.08444, 0.10222, 0.08, 0.10667, 0.07556, 0.10222, 0.13333]\n"
     ]
    },
    {
     "data": {
      "image/png": "[encoded data removed]",
      "text/plain": [
       "<matplotlib.figure.Figure at 0x1c882c060f0>"
      ]
     },
     "metadata": {},
     "output_type": "display_data"
    }
   ],
   "source": [
    "from scipy.stats import uniform as un\n",
    "rcParams['figure.dpi']=120\n",
    "print('A_otrezk: ',a_x_2)\n",
    "print('Numb of el-ts in ortez: ',a_n_2)       \n",
    "print('W relative frequency: ',a_w_2)\n",
    "\n",
    "#imperik_func(lin2_1) MMM\n",
    "xdel=[]\n",
    "ydel=[]\n",
    "#x=masss2\n",
    "#y=masss2\n",
    "boxdel=0\n",
    "plt.title('Empirical distribution function')\n",
    "plt.ylabel('sum(Wi)')\n",
    "plt.xlabel('Xi')\n",
    "for i in range(len(lin2_1)-1):#problem !!! over 1\n",
    "    if lin2_1[i]<lin2_2[0]:\n",
    "        xdel.append(lin2_1[i])\n",
    "        xdel.append(lin2_1[i+1])\n",
    "        boxdel=0\n",
    "        ydel.append(boxdel)\n",
    "        ydel.append(boxdel)  \n",
    "    elif lin2_1[i]>=lin2_2[-1]:\n",
    "        xdel.append(lin2_1[i])\n",
    "        xdel.append(lin2_1[i+1])\n",
    "        boxdel=1\n",
    "        ydel.append(boxdel)\n",
    "        ydel.append(boxdel)\n",
    "    else:\n",
    "        #Func_Mx()\n",
    "        xdel.append(lin2_1[i])\n",
    "        xdel.append(lin2_1[i+1])\n",
    "        boxdel=round(Func_Mx(lin2_1[i]),5)#round((1)/(len(x)),5)\n",
    "        ydel.append(boxdel)\n",
    "        ydel.append(boxdel)\n",
    "\n",
    "    plt.plot(xdel,ydel,color='g')\n",
    "    xdel.clear()\n",
    "    ydel.clear()\n",
    "    \n",
    "#imperik_func(lin2_2) NNN Func_Ny\n",
    "xdel2=[]\n",
    "ydel2=[]\n",
    "#x=masss2\n",
    "#y=masss2\n",
    "boxdel=0\n",
    "plt.title('Empirical distribution function')\n",
    "plt.ylabel('sum(Wi)')\n",
    "plt.xlabel('Xi')\n",
    "for i in range(len(lin2_2)-1):#problem !!! over 1\n",
    "    if lin2_2[i]<lin2_1[0]:\n",
    "        xdel2.append(lin2_2[i])\n",
    "        xdel2.append(lin2_2[i+1])\n",
    "        boxdel=0\n",
    "        ydel2.append(boxdel)\n",
    "        ydel2.append(boxdel) \n",
    "    elif lin2_2[i]>=lin2_1[-1]:\n",
    "        xdel2.append(lin2_2[i])\n",
    "        xdel2.append(lin2_2[i+1])\n",
    "        boxdel=1\n",
    "        ydel2.append(boxdel)\n",
    "        ydel2.append(boxdel)\n",
    "    else:   \n",
    "        #Func_Ny()\n",
    "        xdel2.append(lin2_2[i])\n",
    "        xdel2.append(lin2_2[i+1])\n",
    "        boxdel=round(Func_Ny(lin2_2[i]),5)#round((1)/(len(x)),5)\n",
    "        ydel2.append(boxdel)\n",
    "        ydel2.append(boxdel)\n",
    "\n",
    "\n",
    "    plt.plot(xdel2,ydel2,color='black')\n",
    "    xdel.clear()\n",
    "    ydel.clear()\n",
    "    \n",
    "plt.yticks(np.arange(0.0,1.1,0.1))\n",
    "plt.legend()\n",
    "plt.grid(True)\n",
    "plt.show()\n"
   ]
  },
  {
   "cell_type": "code",
   "execution_count": null,
   "metadata": {
    "collapsed": true
   },
   "outputs": [],
   "source": []
  }
 ],
 "metadata": {
  "kernelspec": {
   "display_name": "Python 3",
   "language": "python",
   "name": "python3"
  },
  "language_info": {
   "codemirror_mode": {
    "name": "ipython",
    "version": 3
   },
   "file_extension": ".py",
   "mimetype": "text/x-python",
   "name": "python",
   "nbconvert_exporter": "python",
   "pygments_lexer": "ipython3",
   "version": "3.6.3"
  }
 },
 "nbformat": 4,
 "nbformat_minor": 2
}
