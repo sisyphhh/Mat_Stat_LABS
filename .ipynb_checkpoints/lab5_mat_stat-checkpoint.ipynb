{
 "cells": [
  {
   "cell_type": "code",
   "execution_count": 1,
   "metadata": {},
   "outputs": [
    {
     "name": "stdout",
     "output_type": "stream",
     "text": [
      "variant 11\n"
     ]
    }
   ],
   "source": [
    "print(\"variant 11\")\n",
    "import random\n",
    "import numpy as np\n",
    "from matplotlib import pylab as plt\n",
    "from matplotlib import rcParams\n",
    "%matplotlib inline"
   ]
  },
  {
   "cell_type": "code",
   "execution_count": 3,
   "metadata": {
    "collapsed": true
   },
   "outputs": [],
   "source": [
    "a=[0.88035,0.15059,-0.00872,-1.67101,-3.86517,0.79676,1.75095,1.86934,1.20399,-1.20071,4.00448,-3.73474,-0.31915,0.32841,1.73119,-2.31926,-3.51134,-0.94014,-0.51341,0.26514,-3.58792,-3.51997,2.28957,-1.49757,-1.84172,0.79500,1.02205,-3.06864,-0.93933,-0.75442,-0.88612,0.07626,-1.67889,-1.49874,-1.33217,1.63867,0.64508,-1.26165,-1.77533,2.72161,-0.83809,3.39029,2.35423,0.17792,0.52254,-2.77832,0.05747,-0.17528,1.48256,-5.35237,-7.33911,2.85722,2.97555,0.29771,-1.70901,2.13556,-1.28919,-4.56704,-3.55913,-0.34287]"
   ]
  },
  {
   "cell_type": "code",
   "execution_count": 5,
   "metadata": {},
   "outputs": [],
   "source": [
    "a=[-1.50259, -0.83162, -0.27356, -0.12695, 0.17393, 0.29067, 0.33127, 0.42669, 0.50121, 0.79726, 0.86558, 1.17865, 1.53671, 1.63443, 1.70723, 2.06315, 2.97452, 3.2245, 3.85504, 4.05773,-1.83056, -0.74482, -0.55729, -0.08633, 0.2365, 0.72085, 1.02199, 1.49827, 1.71117, 1.94503, 1.95896, 1.99104, 2.09212, 2.68913, 2.82399, 2.98129, 4.0488, 4.08201, 6.53576, 9.19647,-3.10855, -0.71475, -0.29663, -0.1659, 0.41752, 0.50783, 0.74943, 0.79247, 1.01365, 1.05864, 1.23357, 1.30986, 2.03279, 2.208, 2.48295, 2.54288, 2.73864, 3.22218, 3.83623, 5.06229]\n"
   ]
  },
  {
   "cell_type": "code",
   "execution_count": 13,
   "metadata": {},
   "outputs": [
    {
     "ename": "SyntaxError",
     "evalue": "invalid syntax (<ipython-input-13-52e219bed3ae>, line 1)",
     "output_type": "error",
     "traceback": [
      "\u001b[1;36m  File \u001b[1;32m\"<ipython-input-13-52e219bed3ae>\"\u001b[1;36m, line \u001b[1;32m1\u001b[0m\n\u001b[1;33m    I. Проверить гипотезу о равенстве математических ожиданий наблюдаемых случайных величин\u001b[0m\n\u001b[1;37m                        ^\u001b[0m\n\u001b[1;31mSyntaxError\u001b[0m\u001b[1;31m:\u001b[0m invalid syntax\n"
     ]
    }
   ],
   "source": [
    "I. Проверить гипотезу о равенстве математических ожиданий наблюдаемых случайных величин \n",
    "при уровне значимости 0,06 \n",
    "разными способами ‒ непосредственным расчетом по формулам из Указания и с помощью функций Octave. \n",
    "\n",
    "II. Проверить гипотезу о равенстве дисперсий наблюдаемых случайных величин \n",
    "при уровне значимости 0,06 \n",
    "разными способами ‒ непосредственным расчетом по формулам из Указания и с помощью функций Octave. "
   ]
  },
  {
   "cell_type": "code",
   "execution_count": 13,
   "metadata": {},
   "outputs": [
    {
     "name": "stdout",
     "output_type": "stream",
     "text": [
      "list1:  [-1.50259, -0.83162, -0.27356, -0.12695, 0.17393, 0.29067, 0.33127, 0.42669, 0.50121, 0.79726, 0.86558, 1.17865, 1.53671, 1.63443, 1.70723, 2.06315, 2.97452, 3.2245, 3.85504, 4.05773] \n",
      "\n",
      "list2:  [-1.83056, -0.74482, -0.55729, -0.08633, 0.2365, 0.72085, 1.02199, 1.49827, 1.71117, 1.94503, 1.95896, 1.99104, 2.09212, 2.68913, 2.82399, 2.98129, 4.0488, 4.08201, 6.53576, 9.19647] \n",
      "\n",
      "list3:  [-3.10855, -0.71475, -0.29663, -0.1659, 0.41752, 0.50783, 0.74943, 0.79247, 1.01365, 1.05864, 1.23357, 1.30986, 2.03279, 2.208, 2.48295, 2.54288, 2.73864, 3.22218, 3.83623, 5.06229] \n",
      "\n",
      "20\n",
      "выбороч сред x_   х^2_\t \tSx^2\n",
      "1.14419 \t 3.46239 \t 2.26655 \n",
      " 2.11572 \t 10.57099 \t 6.41549 \n",
      " 1.34615 \t 4.85809 \t 3.20628\n",
      "\n",
      "T_1_2= -1.47455 \tT_1_3= -0.38608 \tT_2_3= 1.10952\n",
      "\n",
      " u_ 1.53536 \n",
      " u_.j [1.14419, 2.11572, 1.34615]\n",
      "\n",
      "S_uni= 236.39047000000002\n",
      "\n",
      "S_fact= 10.51264\n",
      "\n",
      "S_ost= 225.87783000000002\n",
      "\n",
      "S_fact_2= 5.25632\n",
      "\n",
      "S_ost_2= 3.96277\n",
      "\n",
      "F_N,m= 1.32643\n",
      "\n",
      "k1= 2  k2= 57\n"
     ]
    }
   ],
   "source": [
    "listik_1=[]\n",
    "listik_2=[]\n",
    "listik_3=[]\n",
    "\n",
    "#for i in range(len(a)):\n",
    "#    if (i+1)%3==0 :\n",
    "#        listik_3.append(a[i])\n",
    "#    elif (i+1)%3==2:\n",
    "#        listik_2.append(a[i])\n",
    "#    elif (i+1)%3==1:\n",
    "#        listik_1.append(a[i])\n",
    "\n",
    "listik_3=[-3.10855, -0.71475, -0.29663, -0.1659, 0.41752, 0.50783, 0.74943, 0.79247, 1.01365, 1.05864, 1.23357, 1.30986, 2.03279, 2.208, 2.48295, 2.54288, 2.73864, 3.22218, 3.83623, 5.06229]\n",
    "listik_2=[-1.83056, -0.74482, -0.55729, -0.08633, 0.2365, 0.72085, 1.02199, 1.49827, 1.71117, 1.94503, 1.95896, 1.99104, 2.09212, 2.68913, 2.82399, 2.98129, 4.0488, 4.08201, 6.53576, 9.19647]\n",
    "listik_1=[-1.50259, -0.83162, -0.27356, -0.12695, 0.17393, 0.29067, 0.33127, 0.42669, 0.50121, 0.79726, 0.86558, 1.17865, 1.53671, 1.63443, 1.70723, 2.06315, 2.97452, 3.2245, 3.85504, 4.05773] \n",
    "\n",
    "listik_1.sort()\n",
    "listik_2.sort()\n",
    "listik_3.sort()\n",
    "print('list1: ',listik_1,'\\n')\n",
    "print('list2: ',listik_2,'\\n')\n",
    "print('list3: ',listik_3,'\\n')\n",
    "\n",
    "X1=round(sum(listik_1)/len(listik_1),5)#выборочное среднее\n",
    "X2=round(sum(listik_2)/len(listik_2),5)\n",
    "X3=round(sum(listik_3)/len(listik_3),5)\n",
    "\n",
    "print(len(listik_1))\n",
    "\n",
    "summa=0#выборочная несмещенная диспервия\n",
    "for i in range(len(listik_1)):\n",
    "    summa+=listik_1[i]*listik_1[i]\n",
    "X_2__1=round(summa/len(listik_1),5)\n",
    "summa=0\n",
    "for i in range(len(listik_2)):\n",
    "    summa+=listik_2[i]*listik_2[i]\n",
    "X_2__2=round(summa/len(listik_2),5)\n",
    "summa=0\n",
    "for i in range(len(listik_1)):\n",
    "    summa+=listik_3[i]*listik_3[i]\n",
    "X_2__3=round(summa/len(listik_3),5)\n",
    "\n",
    "S2_X1=round((len(listik_1)/(len(listik_1)-1))*(X_2__1 - X1**2),5)\n",
    "S2_X2=round((len(listik_2)/(len(listik_2)-1))*(X_2__2 - X2**2),5)\n",
    "S2_X3=round((len(listik_3)/(len(listik_3)-1))*(X_2__3 - X3**2),5)\n",
    "\n",
    "print('выбороч сред x_ ',' х^2_\\t','\\tSx^2')\n",
    "print(X1,'\\t',X_2__1,'\\t',S2_X1,'\\n',X2,'\\t',X_2__2,'\\t',S2_X2,'\\n',X3,'\\t',X_2__3,'\\t',S2_X3)\n",
    "#print('выборочное среднее x_','\\tх^2_','\\tSx^2')\n",
    "\n",
    "\n",
    "T_1_2=((X1-X2)/(S2_X1*(len(listik_1)-1)+S2_X2*(len(listik_2)-1))**0.5)*((len(listik_2)*len(listik_1)*(len(listik_1)+len(listik_2)-2))/(len(listik_1)+len(listik_2)))**0.5\n",
    "T_1_3=((X1-X3)/(S2_X1*(len(listik_1)-1)+S2_X3*(len(listik_2)-1))**0.5)*((len(listik_3)*len(listik_1)*(len(listik_1)+len(listik_3)-2))/(len(listik_1)+len(listik_3)))**0.5\n",
    "T_2_3=((X2-X3)/(S2_X2*(len(listik_2)-1)+S2_X3*(len(listik_3)-1))**0.5)*((len(listik_3)*len(listik_2)*(len(listik_2)+len(listik_3)-2))/(len(listik_3)+len(listik_3)))**0.5\n",
    "\n",
    "print('\\nT_1_2=',round(T_1_2,5),'\\tT_1_3=',round(T_1_3,5),'\\tT_2_3=',round(T_2_3,5))\n",
    "\n",
    "XXL=[listik_1]+[listik_2]+[listik_3]\n",
    "U_universal=round((sum(listik_1)+sum(listik_2)+sum(listik_3))/(3*len(listik_1)),5)\n",
    "U_j=[]\n",
    "box1=0\n",
    "for i in range(3):\n",
    "    box1=0\n",
    "    for j in range(len(listik_1)):\n",
    "        box1+=XXL[i][j]\n",
    "    U_j.append(round(box1/len(listik_1),5))\n",
    "print('\\n u_',U_universal,'\\n u_.j',U_j)\n",
    "\n",
    "#Расчет общего среднего значения и групповых средних \n",
    "S_uni=0\n",
    "for i in range(3):\n",
    "    for j in range(len(listik_1)):\n",
    "        S_uni+=round((XXL[i][j]-U_universal)**2,5)\n",
    "print('\\nS_uni=',S_uni)\n",
    "\n",
    "S_fact=0\n",
    "for i in range(3):\n",
    "    S_fact+=(U_j[i]-U_universal)**2\n",
    "S_fact=round(S_fact*len(listik_1),5)\n",
    "print('\\nS_fact=',S_fact)\n",
    "\n",
    "S_ost=S_uni-S_fact\n",
    "print('\\nS_ost=',S_ost)\n",
    "\n",
    "S_fact_2=round((S_fact/(3-1)),5)\n",
    "print('\\nS_fact_2=',S_fact_2)\n",
    "\n",
    "S_ost_2=round(S_ost/(3*(len(listik_1)-1)),5)\n",
    "print('\\nS_ost_2=',S_ost_2)\n",
    "\n",
    "F_n_m=round((S_fact/(3-1))/(S_ost/(3*(len(listik_1)-1))),5)\n",
    "print('\\nF_N,m=',F_n_m)\n",
    "\n",
    "#\n",
    "k1=3-1\n",
    "k2=3*(len(listik_1)-1)\n",
    "print('\\nk1=',k1,' k2=',k2)"
   ]
  },
  {
   "cell_type": "code",
   "execution_count": 14,
   "metadata": {},
   "outputs": [
    {
     "name": "stdout",
     "output_type": "stream",
     "text": [
      "Mat 3 all=  F_onewayResult(statistic=1.3264133115775665, pvalue=0.27349482128406627)\n",
      "\n",
      "Mat_test2 1-2=  F_onewayResult(statistic=2.1742898360664045, pvalue=0.14857168423660366)\n",
      "Mat_test2 1-3=  F_onewayResult(statistic=0.1490598905700012, pvalue=0.7015886351582006)\n",
      "Mat_test2 2-3=  F_onewayResult(statistic=1.231018847322875, pvalue=0.2741813040072637)\n",
      "\n",
      "Mat_welch 1-2=  Ttest_indResult(statistic=-1.4745473325961445, pvalue=0.1504393745204233)\n",
      "Mat_welch 1-3=  Ttest_indResult(statistic=-0.3860827509356009, pvalue=0.701651864409045)\n",
      "Mat_welch 2-3=  Ttest_indResult(statistic=1.1095128874072957, pvalue=0.2749508808901665)\n"
     ]
    }
   ],
   "source": [
    "#number 1: punct 3-4-5\n",
    "from scipy import stats\n",
    "\n",
    "print('Mat 3 all= ',stats.f_oneway(listik_1,listik_2,listik_3))\n",
    "print()\n",
    "print('Mat_test2 1-2= ',stats.f_oneway(listik_1,listik_2))\n",
    "print('Mat_test2 1-3= ',stats.f_oneway(listik_1,listik_3))\n",
    "print('Mat_test2 2-3= ',stats.f_oneway(listik_2,listik_3))\n",
    "print()\n",
    "print('Mat_welch 1-2= ',stats.ttest_ind(listik_1,listik_2,equal_var=False))\n",
    "print('Mat_welch 1-3= ',stats.ttest_ind(listik_1,listik_3,equal_var=False))\n",
    "print('Mat_welch 2-3= ',stats.ttest_ind(listik_2,listik_3,equal_var=False))\n",
    "#equal_var=False"
   ]
  },
  {
   "cell_type": "code",
   "execution_count": null,
   "metadata": {
    "collapsed": true
   },
   "outputs": [],
   "source": []
  },
  {
   "cell_type": "code",
   "execution_count": 15,
   "metadata": {},
   "outputs": [
    {
     "name": "stdout",
     "output_type": "stream",
     "text": [
      "bart 3 all=  BartlettResult(statistic=5.360831815374456, pvalue=0.06853464414058245)\n",
      "\n",
      "bart 3 1-2=  BartlettResult(statistic=4.799375648142471, pvalue=0.02847005250488734)\n",
      "bart 3 1-3=  BartlettResult(statistic=0.5540313918062524, pvalue=0.4566751322527447)\n",
      "bart 3 2-3=  BartlettResult(statistic=2.1833437372251656, pvalue=0.1395110701754181)\n",
      "\n",
      "t_kp_a=  1.938632713539906\n",
      "\n",
      "Z_a=  2.9569596997732552\n",
      "\n",
      "Z_a(mn)=  2.4307190858231333\n",
      "\n"
     ]
    }
   ],
   "source": [
    "#number 2: punct 3-4-5\n",
    "from scipy import stats\n",
    "\n",
    "print('bart 3 all= ',stats.bartlett(listik_1,listik_2,listik_3))#???\n",
    "print()\n",
    "print('bart 3 1-2= ',stats.bartlett(listik_1,listik_2))\n",
    "print('bart 3 1-3= ',stats.bartlett(listik_1,listik_3))\n",
    "print('bart 3 2-3= ',stats.bartlett(listik_2,listik_3))\n",
    "print()\n",
    "\n",
    "print('t_kp_a= ',stats.t.ppf(1-0.06/2,2*(len(listik_1)-1)))#1 for punct 1 to check gypotis\n",
    "print()\n",
    "print('Z_a= ',stats.f.ppf(0.94,k1,k2))#1 for punct 2 to check gypotis compare with bart 3 all\n",
    "print()\n",
    "print('Z_a(mn)= ',stats.f.ppf(0.97,len(listik_1)-1,len(listik_1)-1))#2 for punct 1 to check gypotis\n",
    "print()"
   ]
  },
  {
   "cell_type": "code",
   "execution_count": null,
   "metadata": {
    "collapsed": true
   },
   "outputs": [],
   "source": []
  },
  {
   "cell_type": "code",
   "execution_count": null,
   "metadata": {
    "collapsed": true
   },
   "outputs": [],
   "source": []
  }
 ],
 "metadata": {
  "kernelspec": {
   "display_name": "Python 3",
   "language": "python",
   "name": "python3"
  },
  "language_info": {
   "codemirror_mode": {
    "name": "ipython",
    "version": 3
   },
   "file_extension": ".py",
   "mimetype": "text/x-python",
   "name": "python",
   "nbconvert_exporter": "python",
   "pygments_lexer": "ipython3",
   "version": "3.6.3"
  }
 },
 "nbformat": 4,
 "nbformat_minor": 2
}
